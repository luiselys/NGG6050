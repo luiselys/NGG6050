{
  "nbformat": 4,
  "nbformat_minor": 0,
  "metadata": {
    "colab": {
      "provenance": [],
      "authorship_tag": "ABX9TyNsQhxKd1HaOx9SkObnlcXW",
      "include_colab_link": true
    },
    "kernelspec": {
      "name": "python3",
      "display_name": "Python 3"
    },
    "language_info": {
      "name": "python"
    }
  },
  "cells": [
    {
      "cell_type": "markdown",
      "metadata": {
        "id": "view-in-github",
        "colab_type": "text"
      },
      "source": [
        "<a href=\"https://colab.research.google.com/github/luiselys/NGG6050/blob/main/HW4_LATER.ipynb\" target=\"_parent\"><img src=\"https://colab.research.google.com/assets/colab-badge.svg\" alt=\"Open In Colab\"/></a>"
      ]
    },
    {
      "cell_type": "markdown",
      "source": [
        "#Step 1: Get the Data"
      ],
      "metadata": {
        "id": "IM6T_94KUSKP"
      }
    },
    {
      "cell_type": "code",
      "execution_count": 2,
      "metadata": {
        "colab": {
          "base_uri": "https://localhost:8080/",
          "height": 472
        },
        "id": "DoIxTX_9KzoF",
        "outputId": "17cd5c4d-f1e3-4d4b-9f90-0cf111fe6e5e"
      },
      "outputs": [
        {
          "output_type": "display_data",
          "data": {
            "text/plain": [
              "<Figure size 640x480 with 1 Axes>"
            ],
            "image/png": "[encoded data removed]"
          },
          "metadata": {}
        }
      ],
      "source": [
        "import numpy as np\n",
        "import matplotlib.pyplot as plt\n",
        "\n",
        "# Set random seed for reproducibility\n",
        "np.random.seed(42)\n",
        "\n",
        "# Parameters for generating synthetic data\n",
        "num_trials = 1000           # Total number of trials\n",
        "mean_RT = 500               # Mean RT in milliseconds\n",
        "std_dev_RT = 100            # Standard deviation of RT\n",
        "min_RT = 300                # Minimum acceptable RT (to remove outliers)\n",
        "max_RT = 700                # Maximum acceptable RT (to remove outliers)\n",
        "probability_of_correct = 0.8  # Probability of correct response\n",
        "\n",
        "# Initialize a list to store the RTs\n",
        "RTs = []\n",
        "\n",
        "# Generate synthetic RT data\n",
        "for trial in range(num_trials):\n",
        "    # Generate a random value to check for correctness\n",
        "    is_correct = np.random.rand() < probability_of_correct\n",
        "\n",
        "    # Generate a random RT based on Gaussian distribution\n",
        "    generated_RT = mean_RT + std_dev_RT * np.random.randn()\n",
        "\n",
        "    # Check for correctness and outlier\n",
        "    if is_correct and min_RT <= generated_RT <= max_RT:\n",
        "        RTs.append(generated_RT)\n",
        "    else:\n",
        "        # If it's incorrect or an outlier, exclude it\n",
        "        RTs.append(None)\n",
        "\n",
        "# Remove None values (outliers and incorrect trials)\n",
        "RTs = [rt for rt in RTs if rt is not None]\n",
        "\n",
        "# Now, RTs contains a preprocessed dataset with only correct trials and removed outliers.\n",
        "\n",
        "# Plot a histogram of the RTs\n",
        "plt.hist(RTs, bins=30, edgecolor='k')\n",
        "plt.xlabel('Reaction Time (ms)')\n",
        "plt.ylabel('Frequency')\n",
        "plt.title('Reaction Time Histogram')\n",
        "plt.grid(True)\n",
        "\n",
        "# Show the histogram\n",
        "plt.show()\n",
        "\n",
        "# You can use this preprocessed dataset for fitting the LATER model or any other analysis you need."
      ]
    },
    {
      "cell_type": "markdown",
      "source": [
        "# Step 2: Define the Objective Function"
      ],
      "metadata": {
        "id": "tgRZk3jOUNzE"
      }
    },
    {
      "cell_type": "code",
      "source": [
        "import numpy as np\n",
        "from scipy.stats import norm\n",
        "\n",
        "# Define the objective function\n",
        "def LATERObjective(params, observed_data):\n",
        "    muR, deltaS = params\n",
        "\n",
        "    # Calculate mu and sigma based on LATER model parameters\n",
        "    mu = muR / deltaS\n",
        "    sigma = 1 / deltaS\n",
        "\n",
        "    # Calculate the likelihood of the observed data given the model\n",
        "    likelihoods = norm.pdf(1 / observed_data, loc=mu, scale=sigma)\n",
        "\n",
        "    # Calculate the log-likelihoods (step 2)\n",
        "    log_likelihoods = np.log(likelihoods)\n",
        "\n",
        "    # Sum the log-likelihoods from all data points (step 3)\n",
        "    sum_log_likelihoods = np.sum(log_likelihoods)\n",
        "\n",
        "    # Take the negative of the sum (step 4)\n",
        "    neg_log_likelihood = -sum_log_likelihoods\n",
        "\n",
        "    return neg_log_likelihood"
      ],
      "metadata": {
        "id": "DPJqfC60Otd-"
      },
      "execution_count": 3,
      "outputs": []
    },
    {
      "cell_type": "markdown",
      "source": [
        "# Exercise: Objective function as a function of fits\n",
        "\n"
      ],
      "metadata": {
        "id": "DeGY9UvaPQij"
      }
    },
    {
      "cell_type": "code",
      "source": [
        "# Define the objective function as a function of muR (keeping deltaS fixed)\n",
        "def LATERObjective_muR(muR, observed_data, fixed_deltaS):\n",
        "    # Calculate mu and sigma based on the fixed deltaS\n",
        "    deltaS = fixed_deltaS\n",
        "    mu = muR / deltaS\n",
        "    sigma = 1 / deltaS\n",
        "\n",
        "    # Calculate the likelihood of the observed data given the model\n",
        "    likelihoods = norm.pdf(1 / observed_data, loc=mu, scale=sigma)\n",
        "\n",
        "    # Calculate the log-likelihoods\n",
        "    log_likelihoods = np.log(likelihoods)\n",
        "\n",
        "    # Sum the log-likelihoods\n",
        "    sum_log_likelihoods = np.sum(log_likelihoods)\n",
        "\n",
        "    # Take the negative of the sum\n",
        "    neg_log_likelihood = -sum_log_likelihoods\n",
        "\n",
        "    return neg_log_likelihood"
      ],
      "metadata": {
        "id": "UnuaAP5ZRBYV"
      },
      "execution_count": 6,
      "outputs": []
    },
    {
      "cell_type": "code",
      "source": [
        "# Define the objective function as a function of deltaS (keeping muR fixed)\n",
        "def LATERObjective_deltaS(deltaS, observed_data, fixed_muR):\n",
        "    # Calculate mu and sigma based on the fixed muR\n",
        "    muR = fixed_muR\n",
        "    mu = muR / deltaS\n",
        "    sigma = 1 / deltaS\n",
        "\n",
        "    # Calculate the likelihood of the observed data given the model\n",
        "    likelihoods = norm.pdf(1 / observed_data, loc=mu, scale=sigma)\n",
        "\n",
        "    # Calculate the log-likelihoods\n",
        "    log_likelihoods = np.log(likelihoods)\n",
        "\n",
        "    # Sum the log-likelihoods\n",
        "    sum_log_likelihoods = np.sum(log_likelihoods)\n",
        "\n",
        "    # Take the negative of the sum\n",
        "    neg_log_likelihood = -sum_log_likelihoods\n",
        "\n",
        "    return neg_log_likelihood"
      ],
      "metadata": {
        "id": "d1qVHiCFRIoz"
      },
      "execution_count": 7,
      "outputs": []
    },
    {
      "cell_type": "markdown",
      "source": [
        "#Step 3: Defining the initial conditions"
      ],
      "metadata": {
        "id": "iJBIAUK3TK1e"
      }
    },
    {
      "cell_type": "code",
      "source": [
        "import numpy as np\n",
        "from scipy.optimize import minimize\n",
        "\n",
        "# Define the observed data (replace with your actual dataset)\n",
        "observed_data = [500, 550, 600, 520, 480, 530, 610, 490, 540, 520]\n",
        "\n",
        "# Define initial conditions for optimization\n",
        "initial_params = [500, 100]  # Initial values for muR and deltaS\n",
        "\n",
        "# Define lower bounds for parameters\n",
        "lower_bounds = [0.001, 0.001]\n",
        "\n",
        "# Define upper bounds for parameters\n",
        "upper_bounds = [1000, 1000]\n",
        "\n",
        "# Print the initial values\n",
        "print(\"Initial muR:\", initial_params[0])\n",
        "print(\"Initial deltaS:\", initial_params[1])\n",
        "\n",
        "# Define the objective function\n",
        "def LATERObjective(params):\n",
        "    muR, deltaS = params\n",
        "\n",
        "    # Calculate mu and sigma based on LATER model parameters\n",
        "    mu = muR / deltaS\n",
        "    sigma = 1 / deltaS\n",
        "\n",
        "    # Calculate the likelihood of the observed data given the model\n",
        "    likelihoods = [1 / x for x in observed_data]\n",
        "    likelihoods = norm.pdf(likelihoods, loc=mu, scale=sigma)\n",
        "\n",
        "    # Calculate the log-likelihoods\n",
        "    log_likelihoods = np.log(likelihoods)\n",
        "\n",
        "    # Sum the log-likelihoods\n",
        "    sum_log_likelihoods = np.sum(log_likelihoods)\n",
        "\n",
        "    # Take the negative of the sum\n",
        "    neg_log_likelihood = -sum_log_likelihoods\n",
        "\n",
        "    return neg_log_likelihood\n",
        "\n",
        "# Perform the optimization with bounds\n",
        "result = minimize(LATERObjective, initial_params, bounds=list(zip(lower_bounds, upper_bounds)))\n",
        "\n",
        "# Extract the optimized muR and deltaS\n",
        "fitted_muR, fitted_deltaS = result.x\n",
        "\n",
        "# Display the results\n",
        "print(\"Optimized muR:\", fitted_muR)\n",
        "print(\"Optimized deltaS:\", fitted_deltaS)"
      ],
      "metadata": {
        "colab": {
          "base_uri": "https://localhost:8080/"
        },
        "id": "J6KM5m2STOZc",
        "outputId": "c313717a-78a1-4a85-8aed-e48671526351"
      },
      "execution_count": 10,
      "outputs": [
        {
          "output_type": "stream",
          "name": "stdout",
          "text": [
            "Initial muR: 500\n",
            "Initial deltaS: 100\n",
            "Optimized muR: 500.0\n",
            "Optimized deltaS: 100.0\n"
          ]
        },
        {
          "output_type": "stream",
          "name": "stderr",
          "text": [
            "<ipython-input-10-e1471eeadc18>:33: RuntimeWarning: divide by zero encountered in log\n",
            "  log_likelihoods = np.log(likelihoods)\n"
          ]
        }
      ]
    },
    {
      "cell_type": "markdown",
      "source": [
        "#Step 4: Run the fits"
      ],
      "metadata": {
        "id": "QXUXq_UwViyE"
      }
    },
    {
      "cell_type": "code",
      "source": [
        "import numpy as np\n",
        "from scipy.optimize import minimize, shgo\n",
        "from scipy.stats import norm\n",
        "\n",
        "# Define the observed data (replace with your actual dataset)\n",
        "observed_data = [500, 550, 600, 520, 480, 530, 610, 490, 540, 520]\n",
        "\n",
        "# Define initial conditions for optimization\n",
        "initial_params = [500, 100]  # Initial values for muR and deltaS\n",
        "\n",
        "# Define lower bounds for parameters\n",
        "lower_bounds = [0.001, 0.001]\n",
        "\n",
        "# Define upper bounds for parameters\n",
        "upper_bounds = [1000, 1000]\n",
        "\n",
        "# Print the initial values\n",
        "print(\"Initial muR:\", initial_params[0])\n",
        "print(\"Initial deltaS:\", initial_params[1])\n",
        "\n",
        "# Define the objective function\n",
        "def LATERObjective(params):\n",
        "    muR, deltaS = params\n",
        "\n",
        "    # Calculate mu and sigma based on LATER model parameters\n",
        "    mu = muR / deltaS\n",
        "    sigma = 1 / deltaS\n",
        "\n",
        "    # Calculate the likelihood of the observed data given the model\n",
        "    likelihoods = [1 / x for x in observed_data]\n",
        "    likelihoods = norm.pdf(likelihoods, loc=mu, scale=sigma)\n",
        "\n",
        "    # Calculate the log-likelihoods\n",
        "    log_likelihoods = np.log(likelihoods)\n",
        "\n",
        "    # Sum the log-likelihoods\n",
        "    sum_log_likelihoods = np.sum(log_likelihoods)\n",
        "\n",
        "    # Take the negative of the sum\n",
        "    neg_log_likelihood = -sum_log_likelihoods\n",
        "\n",
        "    return neg_log_likelihood\n",
        "\n",
        "# Define the optimization problem using the minimize function\n",
        "result = minimize(LATERObjective, initial_params, bounds=list(zip(lower_bounds, upper_bounds)))\n",
        "\n",
        "# Extract the optimized muR and deltaS\n",
        "fitted_muR, fitted_deltaS = result.x\n",
        "\n",
        "# Display the results\n",
        "print(\"Optimized muR:\", fitted_muR)\n",
        "print(\"Optimized deltaS:\", fitted_deltaS)"
      ],
      "metadata": {
        "colab": {
          "base_uri": "https://localhost:8080/"
        },
        "id": "2bmNr6UuVh1E",
        "outputId": "c14e17d6-3338-49ef-96fd-40fd17ca012f"
      },
      "execution_count": 11,
      "outputs": [
        {
          "output_type": "stream",
          "name": "stdout",
          "text": [
            "Initial muR: 500\n",
            "Initial deltaS: 100\n",
            "Optimized muR: 500.0\n",
            "Optimized deltaS: 100.0\n"
          ]
        },
        {
          "output_type": "stream",
          "name": "stderr",
          "text": [
            "<ipython-input-11-7cb4e931aae7>:34: RuntimeWarning: divide by zero encountered in log\n",
            "  log_likelihoods = np.log(likelihoods)\n"
          ]
        }
      ]
    },
    {
      "cell_type": "markdown",
      "source": [
        "#Step 5: Evaluate Fits"
      ],
      "metadata": {
        "id": "9m1TqC1WWjzd"
      }
    },
    {
      "cell_type": "code",
      "source": [
        "import numpy as np\n",
        "from scipy.stats import norm\n",
        "\n",
        "# Define the observed data (replace with your actual dataset)\n",
        "observed_data = [500, 550, 600, 520, 480, 530, 610, 490, 540, 520]\n",
        "\n",
        "# Define the optimized parameter values obtained from fitting\n",
        "fitted_muR = 200  # Replace with your fitted muR\n",
        "fitted_deltaS = 50  # Replace with your fitted deltaS\n",
        "\n",
        "# Initialize variables for evaluation metrics\n",
        "neg_log_likelihood = None\n",
        "aic = None\n",
        "bic = None\n",
        "\n",
        "# Calculate mu and sigma based on the optimized parameters\n",
        "mu = fitted_muR / fitted_deltaS\n",
        "sigma = 1 / fitted_deltaS\n",
        "\n",
        "# Calculate the likelihood of the observed data given the model\n",
        "likelihoods = [1 / x for x in observed_data]\n",
        "likelihoods = norm.pdf(likelihoods, loc=mu, scale=sigma)\n",
        "\n",
        "# Calculate the log-likelihoods\n",
        "log_likelihoods = np.log(likelihoods)\n",
        "\n",
        "# Check for invalid values in log-likelihoods\n",
        "if np.isinf(np.sum(log_likelihoods)) or np.isnan(np.sum(log_likelihoods)):\n",
        "    print(\"Likelihood calculation issue. Check parameter values and data.\")\n",
        "\n",
        "else:\n",
        "    # Compute the negative log-likelihood\n",
        "    neg_log_likelihood = -np.sum(log_likelihoods)\n",
        "\n",
        "    # Calculate the Akaike Information Criterion (AIC)\n",
        "    n_data_points = len(observed_data)\n",
        "    n_parameters = 2  # Number of parameters (muR and deltaS)\n",
        "    aic = 2 * n_parameters - 2 * neg_log_likelihood\n",
        "\n",
        "    # Calculate the Bayesian Information Criterion (BIC)\n",
        "    bic = n_parameters * np.log(n_data_points) - 2 * neg_log_likelihood\n",
        "\n",
        "# Display the results and evaluation metrics\n",
        "if neg_log_likelihood is not None:\n",
        "    print(\"Negative Log-Likelihood:\", neg_log_likelihood)\n",
        "    print(\"Akaike Information Criterion (AIC):\", aic)\n",
        "    print(\"Bayesian Information Criterion (BIC):\", bic)"
      ],
      "metadata": {
        "colab": {
          "base_uri": "https://localhost:8080/"
        },
        "id": "AcBGKLUvWny5",
        "outputId": "fb184d09-e76b-476c-c908-1a65ee4a59f0"
      },
      "execution_count": 13,
      "outputs": [
        {
          "output_type": "stream",
          "name": "stdout",
          "text": [
            "Likelihood calculation issue. Check parameter values and data.\n"
          ]
        },
        {
          "output_type": "stream",
          "name": "stderr",
          "text": [
            "<ipython-input-13-6e21e77d9e4e>:25: RuntimeWarning: divide by zero encountered in log\n",
            "  log_likelihoods = np.log(likelihoods)\n"
          ]
        }
      ]
    },
    {
      "cell_type": "markdown",
      "source": [
        "#### Exercise: How do you know you got a reasonable answer?\n",
        "We calculate the negative log-likelihood, which quantifies how well the model fits the data. A lower value indicates a better fit.\n",
        "\n",
        "We calculate the Akaike Information Criterion (AIC) and Bayesian Information Criterion (BIC). These are information criteria that consider both model fit and model complexity. Lower AIC and BIC values indicate a better trade-off between fit and model complexity.\n",
        "\n",
        "By comparing the negative log-likelihood, AIC, and BIC to those of alternative models or assessing their absolute values, you can evaluate the quality of the fits and determine if the parameter estimates are reasonable. Lower negative log-likelihood and information criteria values are generally indicative of better fits."
      ],
      "metadata": {
        "id": "B59gkQk2XUnW"
      }
    }
  ]
}