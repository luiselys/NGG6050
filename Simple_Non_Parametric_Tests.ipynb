{
  "cells": [
    {
      "cell_type": "markdown",
      "metadata": {
        "id": "bTe7Z3l2oDoQ"
      },
      "source": [
        "[![Open In Colab](https://colab.research.google.com/assets/colab-badge.svg)](https://colab.research.google.com/github/PennNGG/Quantitative-Neuroscience/blob/master/Hypothesis%20Testing/Python/Simple%20Non%2dParametric%20Tests.ipynb)"
      ]
    },
    {
      "cell_type": "markdown",
      "metadata": {
        "id": "pKIiY6p3GRFq"
      },
      "source": [
        "# Definitions"
      ]
    },
    {
      "cell_type": "markdown",
      "metadata": {
        "id": "x7VmLUr5GTNw"
      },
      "source": [
        "When comparing the central tendencies (e.g., means) of two samples, if you know how the samples are distributed and/or *n* is large enough in each sample so that you can assume that their means are normally distributed via the Central Limit Theorem, then it is reasonable to use parametric hypothesis tests like a [*t*-test](https://colab.research.google.com/drive/1M7xjaMwJUEyULPHfXc3tWG6-WVjCl-uQ?usp=sharing). Otherwise, nonparametric tests should be used.\n",
        "\n",
        "There is an increasing understanding by neuroscientists and others that parametric tests, while they tend to be simple and convenient, often have assumptions that are not well justified and thus should be used only when appropriate. See, for example:\n",
        "\n",
        "[Running the Numbers](https://www.nature.com/articles/nn0205-123) from *Nature Neuroscience*, which discusses using nonparametric approaches when appropriate.\n",
        "\n",
        "[An evaluation of nonparametric approaches in clinical trials](https://bmcmedresmethodol.biomedcentral.com/articles/10.1186/1471-2288-5-35), which covers several of the tests described below.\n",
        "\n",
        "Here we will not dive deep into the math but instead will provide a more practical guide for when to use three common forms of nonparametric one- and two-sample tests."
      ]
    },
    {
      "cell_type": "markdown",
      "metadata": {
        "id": "5ULZKAuOBol4"
      },
      "source": [
        "\n",
        "# Getting started with code"
      ]
    },
    {
      "cell_type": "markdown",
      "metadata": {
        "id": "S57swuS-BwVO"
      },
      "source": [
        "Matlab code is found in the [NGG Statistics GitHub Repository](https://github.com/PennNGG/Statistics.git) under \"Hypothesis Testing/SimpleNonParametricTests.m\".\n",
        "\n",
        "Python code is included below. First run the code cell just below to make sure all of the required Python modules are loaded, then you can run the other cell(s)."
      ]
    },
    {
      "cell_type": "code",
      "execution_count": 1,
      "metadata": {
        "id": "CjqTNogqBtUX"
      },
      "outputs": [],
      "source": [
        "import numpy as np\n",
        "import scipy.stats as st\n",
        "from statsmodels.stats.descriptivestats import sign_test"
      ]
    },
    {
      "cell_type": "markdown",
      "metadata": {
        "id": "nvmWeSSHSF95"
      },
      "source": [
        "# Sign test: one sample, skewed distribution"
      ]
    },
    {
      "cell_type": "markdown",
      "metadata": {
        "id": "bki88QRVSaj8"
      },
      "source": [
        "This test is applied to a single sample but is typically used for paired measurements to test the hypothesis that there is no systematic direction of a treatment effect (positive=the treatment resulted in a bigger value, negative=the treatment resulted in a smaller value), regardless of magnitude. The Null hypothesis is an equal probability of an effect either direction, so the data are treated as a [binomial distribution](https://colab.research.google.com/drive/1q1KaEjkAzUKRFSLPQ0SFdqU_byc70Oi2?usp=sharing) with *p*=0.5"
      ]
    },
    {
      "cell_type": "code",
      "execution_count": 2,
      "metadata": {
        "id": "NDfcV21FJ7v0",
        "outputId": "aa365fee-9ace-4028-d1fc-0396d6573240",
        "colab": {
          "base_uri": "https://localhost:8080/"
        }
      },
      "outputs": [
        {
          "output_type": "stream",
          "name": "stdout",
          "text": [
            "p=0.55\n"
          ]
        }
      ],
      "source": [
        "# Make some paired data\n",
        "a = [3,10,4,20,4,7,50,3,5,5,7]\n",
        "b = [5,9,10,15,6,5,43,6,2,1,0]\n",
        "diff = [bi-ai for ai, bi in zip(a,b)]\n",
        "_, p = sign_test(diff)\n",
        "print(f'p={p:.2f}')"
      ]
    },
    {
      "cell_type": "markdown",
      "metadata": {
        "id": "To3hA26GKjv0"
      },
      "source": [
        "# Wilcoxon signed-rank test: one sample or paired samples, symmetric distribution(s)"
      ]
    },
    {
      "cell_type": "markdown",
      "metadata": {
        "id": "QtK7ZyfjKojz"
      },
      "source": [
        "This test is typically used as a substitute for a [one-sample *t*-test](https://colab.research.google.com/drive/1M7xjaMwJUEyULPHfXc3tWG6-WVjCl-uQ?usp=sharing) and can be used to test the (null) hypothesis that a sample came from a population with a particular median value, or that the median values of two paired samples are equal to each other (i.e., the median of the difference distribution is zero)\n"
      ]
    },
    {
      "cell_type": "code",
      "execution_count": 3,
      "metadata": {
        "colab": {
          "base_uri": "https://localhost:8080/"
        },
        "id": "yjGigVEMLWMP",
        "outputId": "71d5a385-c594-4c27-e2d6-cd92ad58e36c"
      },
      "outputs": [
        {
          "output_type": "stream",
          "name": "stdout",
          "text": [
            "p = 0.05\n"
          ]
        }
      ],
      "source": [
        "samples = np.random.randint(0, high=51, size=200)\n",
        "null_hypothesis_median = 24\n",
        "\n",
        "# Unlike in Matlab, the scipy implementation does not handle the case of comparing\n",
        "#  to a median other than zero, so we make this a (fake) paired two-sample test\n",
        "#  by subtracting the median from each value\n",
        "_, p = st.wilcoxon(samples-null_hypothesis_median)\n",
        "print(f'p = {p:.2f}')\n"
      ]
    },
    {
      "cell_type": "markdown",
      "metadata": {
        "id": "k_iBh6ZsLnX7"
      },
      "source": [
        "# Mann-Whitney: unpaired, two sample\n"
      ]
    },
    {
      "cell_type": "markdown",
      "metadata": {
        "id": "clnBO4FU28El"
      },
      "source": [
        "This is the test that is typically used as a substitute for a [two-sample *t*-test](https://colab.research.google.com/drive/1M7xjaMwJUEyULPHfXc3tWG6-WVjCl-uQ?usp=sharing) and can be used to test the hypothesis that the two unpaired samples come from distributions that differ by a particular median value.\n",
        "\n"
      ]
    },
    {
      "cell_type": "code",
      "execution_count": null,
      "metadata": {
        "colab": {
          "base_uri": "https://localhost:8080/"
        },
        "id": "vbhD1d9vOBCM",
        "outputId": "b29805f4-281f-4b5c-ce45-9dd09dab6c48"
      },
      "outputs": [
        {
          "name": "stdout",
          "output_type": "stream",
          "text": [
            "p = 0.23\n"
          ]
        }
      ],
      "source": [
        "X = np.random.randint(0, high=51, size=200)\n",
        "Y = 2 + np.random.randint(0, high=51, size=200)\n",
        "_, p = st.mannwhitneyu(X,Y)\n",
        "print(f'p = {p:.2f}')"
      ]
    },
    {
      "cell_type": "markdown",
      "metadata": {
        "id": "xfCsP6dEoDoi"
      },
      "source": [
        "# Exercises"
      ]
    },
    {
      "cell_type": "markdown",
      "metadata": {
        "id": "_WWU5b-7oDoi"
      },
      "source": [
        "### Scenario 1:\n",
        "\n",
        "You are a behavioral geologist measuring the reaction time of rocks in response to a tone. Specifically, you want to compare the median reaction time of geodes, to that of limestone. You recruit 20 rocks per group, and run your reaction-time experiment. What test would you use to compare median reaction times between geodes and limestone, and why?"
      ]
    },
    {
      "cell_type": "markdown",
      "source": [
        "Experiment will compare the median reaction times of two independent groups: geodes and limestone. Since you have two independent groups and you are interested in comparing their medians, the Mann-Whitney U test (also known as the Wilcoxon rank-sum test) is an appropriate choice. Here's why:\n",
        "\n",
        "Independent Groups: The Mann-Whitney U test is designed to compare two independent groups, which is the case here as you are comparing geodes and limestone.\n",
        "\n",
        "Non-Normal Data: It's common in geological studies to have data that may not follow a normal distribution, and reaction times of rocks may not be normally distributed. The Mann-Whitney U test does not assume normality, making it suitable for analyzing such data.\n",
        "\n",
        "Ordinal Data: Reaction times can be considered as ordinal data, as they represent the order in which rocks respond to the tone. The Mann-Whitney U test can handle ordinal data effectively.\n",
        "\n",
        "Comparison of Medians: The Mann-Whitney U test focuses on comparing the medians of the two groups. This is in line with your research objective, which is to compare the median reaction times of geodes and limestone."
      ],
      "metadata": {
        "id": "Lv1_l4VVwydu"
      }
    },
    {
      "cell_type": "markdown",
      "metadata": {
        "id": "X7DU9GNWoDoi"
      },
      "source": [
        "### Scenario 2:\n",
        "\n",
        "You are a brilliant scientist working at a biotech firm developing a vaccine that reverses aging. Wow! To test the efficacy of the vaccine, you recruit 50 people, give them a course of your vaccine, and measure their age with a (very) special scale before and after treatment. You want to start by refuting the simple that that the participants' measured ages are not changed by the treatment. What test do you use and why?"
      ]
    },
    {
      "cell_type": "markdown",
      "source": [
        "Experiment tests whether there is a significant change in the measured ages of participants before and after treatment with your anti-aging vaccine. To do this, you can use a paired or dependent samples t-test. Here's why this test is appropriate for your analysis:\n",
        "\n",
        "Test Choice: Paired (Dependent) Samples T-Test\n",
        "\n",
        "Paired Data: In your experiment, you have measurements of participants' ages before and after treatment. These measurements are paired because each participant has two sets of data points, one before treatment and one after treatment.\n",
        "\n",
        "Testing for Change: The paired samples t-test is specifically designed for comparing the means of two related or paired sets of data to determine if there is a significant difference between them. In your case, you want to determine if there is a significant difference in the mean ages before and after treatment, which aligns with your goal of testing the efficacy of the anti-aging vaccine.\n",
        "\n",
        "Assumptions: The paired samples t-test assumes that the differences between paired observations are approximately normally distributed. In many cases, the central limit theorem often ensures that this assumption holds, especially with a reasonably large sample size like the one you have (50 participants)."
      ],
      "metadata": {
        "id": "kKcWhBnVxmvM"
      }
    },
    {
      "cell_type": "markdown",
      "source": [
        "The paired or dependent samples t-test is not the same as the Wilcoxon signed-rank test. They are two different statistical tests, although they both deal with paired or dependent data in the sense that they are used when you have two related sets of observations.\n",
        "\n",
        "Here are the key differences between the two tests:\n",
        "\n",
        "1. Type of Data:\n",
        "\n",
        "Paired T-Test: This is a parametric test used to compare the means of two related or paired sets of data. It assumes that the data follow a normal distribution.\n",
        "\n",
        "Wilcoxon Signed-Rank Test: This is a nonparametric test used to compare the medians of two related or paired sets of data. It does not assume any specific distribution of the data.\n",
        "\n",
        "2. Assumptions:\n",
        "\n",
        "Paired T-Test: It assumes that the differences between paired observations are normally distributed. It is sensitive to the assumption of normality.\n",
        "\n",
        "Wilcoxon Signed-Rank Test: It does not assume any specific distribution for the differences between paired observations. It is a distribution-free or nonparametric test, making it robust to the normality assumption.\n",
        "\n",
        "3. Hypotheses Tested:\n",
        "\n",
        "Paired T-Test: It tests whether the means of two paired groups are significantly different from each other. The null hypothesis is typically that there is no significant difference between the means.\n",
        "\n",
        "Wilcoxon Signed-Rank Test: It tests whether the medians of two paired groups are significantly different from each other. The null hypothesis is that there is no significant difference in medians.\n",
        "\n",
        "4. Test Statistic:\n",
        "\n",
        "Paired T-Test: The test statistic is the t-statistic, which measures the size of the difference between the means of the two paired groups relative to the variability within each group.\n",
        "\n",
        "Wilcoxon Signed-Rank Test: The test statistic is based on the sum of ranks of the signed differences between paired observations.\n",
        "\n",
        "5. Use Cases:\n",
        "\n",
        "Paired T-Test: It is used when you have normally distributed data and you want to compare the means of two paired groups. It is sensitive to differences in means.\n",
        "\n",
        "Wilcoxon Signed-Rank Test: It is used when you want to compare the medians of two paired groups, and it is appropriate when you cannot assume that the data follow a normal distribution or when dealing with ordinal data.\n",
        "\n",
        "In summary, while both tests deal with paired or dependent data, they are used in different situations and make different assumptions about the data. The choice between the paired T-test and the Wilcoxon signed-rank test depends on the nature of your data and the assumptions you can reasonably make."
      ],
      "metadata": {
        "id": "2nT3CsN8yEH-"
      }
    },
    {
      "cell_type": "markdown",
      "metadata": {
        "id": "lRn94XDCoDoi"
      },
      "source": [
        "### Scenario 3\n",
        "\n",
        "You are a neuroeconomist and believe you have developed a wearable device that can change consumer preferences about a given product. To test your device, you present product X to a group of 40 individuals, and ask them to fill out a survery assessing how much they like the product (larger score means they like it more). Then, you have the individuals wear the device, present product X, and assess how much they like of the product. You want to know if the device reliably increases, decreases, or does not affect their liking of product X. What test would you use and why? What result would indicate that their liking has increased?"
      ]
    },
    {
      "cell_type": "markdown",
      "source": [
        "Maybe a sign test, skewed distribution given that you're interested in the direction of the preference (increases, decreases, no effect).\n",
        "\n",
        "However, if you are interested in the magnitude of the preference, then a paired/dependent samples t-test would work.\n",
        "\n",
        "Paired Data: You have measurements from the same individuals before and after they wore the device. This constitutes paired or dependent data because each participant has two sets of data points, one before wearing the device and one after wearing it.\n",
        "\n",
        "Testing for Change: The paired samples t-test is designed for comparing the means of two related or paired sets of data to determine if there is a significant difference between them. In your case, you want to determine if there is a significant difference in the mean liking scores before and after wearing the device, which aligns with your research objective.\n",
        "\n",
        "Assumptions: The paired samples t-test assumes that the differences between paired observations are approximately normally distributed. In many cases, the central limit theorem often ensures that this assumption holds, especially with a reasonable sample size like the one you have (40 participants)."
      ],
      "metadata": {
        "id": "lsUc7f9aysN3"
      }
    },
    {
      "cell_type": "markdown",
      "metadata": {
        "id": "UqoNXyuxP-go"
      },
      "source": [
        "# Additional Resources\n"
      ]
    },
    {
      "cell_type": "markdown",
      "metadata": {
        "id": "tteEm2Qlgbb3"
      },
      "source": [
        "# Credits\n",
        "\n",
        "Copyright 2021 by Joshua I. Gold, University of Pennsylvania"
      ]
    }
  ],
  "metadata": {
    "colab": {
      "collapsed_sections": [
        "pKIiY6p3GRFq",
        "5ULZKAuOBol4",
        "To3hA26GKjv0",
        "k_iBh6ZsLnX7"
      ],
      "name": "Simple Non-Parametric Tests",
      "provenance": [],
      "toc_visible": true
    },
    "kernelspec": {
      "display_name": "Python 3.9.6 64-bit",
      "language": "python",
      "name": "python3"
    },
    "language_info": {
      "name": "python",
      "version": "3.9.6"
    },
    "vscode": {
      "interpreter": {
        "hash": "aee8b7b246df8f9039afb4144a1f6fd8d2ca17a180786b69acc140d282b71a49"
      }
    }
  },
  "nbformat": 4,
  "nbformat_minor": 0
}