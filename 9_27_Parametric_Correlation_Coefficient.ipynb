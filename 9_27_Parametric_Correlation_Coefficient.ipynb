{
  "cells": [
    {
      "cell_type": "markdown",
      "metadata": {
        "id": "pKIiY6p3GRFq"
      },
      "source": [
        "# Definitions"
      ]
    },
    {
      "cell_type": "markdown",
      "metadata": {
        "id": "x7VmLUr5GTNw"
      },
      "source": [
        "Correlation is a measure of association between measured (random) variables. The Pearson's correlation coefficient quantifies the strength of this association on a simple scale: it varies between -1 and 1. The larger the absolute value of this correlation coefficient, the tighter the correlation and more predictive it is. The smaller the absolute value, the weaker the correlation and less predictive. Positive values imply a positive correlation: as I eat more ice cream, my weight goes up. Negative values imply a negative correlation: as I eat more ice cream, my weight goes down (wouldn't that be great!).\n",
        "\n",
        "The Pearson's correlation coefficient is called parametric because it assumes a parametric form of the distributions of the two random variables, $X$ and $Y$; specifically, that both variables are [normally distributed](https://colab.research.google.com/drive/1-KxH3FCq5rDyyO33HXxewIv-kKldkINi?usp=sharing)."
      ]
    },
    {
      "cell_type": "markdown",
      "metadata": {
        "id": "IyCyVIIDH0rb"
      },
      "source": [
        "# Computing for a population"
      ]
    },
    {
      "cell_type": "markdown",
      "metadata": {
        "id": "sYDtxlCZH5BC"
      },
      "source": [
        "When you have full knowledge of the joint distribution of $𝑋$ and $Y$ (e.g., when working with an idealized model, not with real, finite data sets), the Pearson's correlation coefficient is typically denoted as $\\rho$ and computed in terms of the covariance between the two variables, normalized by the product of their individual standard deviations:\n",
        "\n",
        "$\\quad\\rho_{X,Y}=\\frac{cov(X,Y)}{\\sigma_x\\sigma_y}$\n",
        "\n",
        "where\n",
        "\n",
        "$\\quad cov(X,Y)=E\\left [ (X-\\mu_X)(Y-\\mu_Y)\\right ]$\n",
        "\n",
        "in which $\\mu_X$ and $\\mu_Y$ are the means of $X$ and $Y$, respectively, and $E\\left[\\right]$ denotes expected value."
      ]
    },
    {
      "cell_type": "markdown",
      "metadata": {
        "id": "xDpz-ktIJGhf"
      },
      "source": [
        "# Computing for a sample"
      ]
    },
    {
      "cell_type": "markdown",
      "metadata": {
        "id": "c-qA27fbJM6k"
      },
      "source": [
        "When working with real data, you have a [sample, not a population](https://colab.research.google.com/drive/1SnVM1MPaFvMSjlDLyihgeZ25OAk-k4Nk?usp=sharing), and thus need to compute the correlation coefficient (typically denoted as *r*) using sample statistics."
      ]
    },
    {
      "cell_type": "markdown",
      "metadata": {
        "id": "9LJSqIDXJZ4f"
      },
      "source": [
        "## Sample Pearson's correlation coefficient"
      ]
    },
    {
      "cell_type": "markdown",
      "metadata": {
        "id": "Ytr0p-0MJcld"
      },
      "source": [
        "$\\quad r_{X,Y}=\\frac{\\sum^n_{i-1}{(x_i-\\bar{x})(y_i-\\bar{y})}}{\\sqrt{\\sum^n_{i-1}{(x_i-\\bar{x})^2}}\\sqrt{\\sum^n_{i-1}{(y_i-\\bar{y})^2}}}$\n",
        "\n",
        "where\n",
        "\n",
        "$\\quad \\bar{x}=\\frac{1}{n}\\sum^n_{i=1}{x_i,\\bar{y}}=\\frac{1}{n}\\sum^n_{i=1}{y_i}$\n",
        "\n",
        "are the sample means."
      ]
    },
    {
      "cell_type": "markdown",
      "metadata": {
        "id": "F2at-qokKj34"
      },
      "source": [
        "## Coefficient of determination"
      ]
    },
    {
      "cell_type": "markdown",
      "metadata": {
        "id": "KHOpKncgKoJP"
      },
      "source": [
        "It is possible to compute $r_{X,Y}$ not just when $X$ and $Y$ are two random variables, but also when one is a random (dependent) variable (typically $Y$) and the other is an independent or explanatory variable (typically $X$). In this case, the square of the correlation coefficient ($r^2$) quantifies the total variation in one variable ($Y$) that is explained by the regression line with respect to the other variable ($X$). This quantity is called the **coefficient of determination** and is often referred to as the fraction of explained variance"
      ]
    },
    {
      "cell_type": "markdown",
      "metadata": {
        "id": "dRpX2JmfLAo7"
      },
      "source": [
        "## Standard error of the sample Pearson's correlation coefficient"
      ]
    },
    {
      "cell_type": "markdown",
      "metadata": {
        "id": "WAWhhqGfLDrG"
      },
      "source": [
        "The standard error of the sample *r* is computed by assuming that r follows a [Student's t distribution](https://colab.research.google.com/drive/1Q_Du5NK71Rc1qu-byh8dy8Fs39uvR_4n?usp=sharing) with two degrees of freedom (because of the two variables):\n",
        "\n",
        "$\\quad s_r=\\sqrt{\\frac{1-r^2}{n-2}}$\n",
        "\n",
        "Note that \"standard error\" refers in general to the standard deviation of a statistical estimate, which here is *r*. It is not the same thing as the \"standard error of the mean\", which refers to the standard deviation of a statistical estimate of a mean."
      ]
    },
    {
      "cell_type": "markdown",
      "metadata": {
        "id": "4yGAhXVULi3C"
      },
      "source": [
        "## Confidence intervals for the sample Pearson's correlation coefficient"
      ]
    },
    {
      "cell_type": "markdown",
      "metadata": {
        "id": "-YIP1v0vLla_"
      },
      "source": [
        "This is a bit tricker to compute, because r is not normally distributed, particularly around the extreme values (e.g., around 1, the distribution cannot go higher than one but can take many values <1). We therefore need to do the following (a good explanation is [here](http://faculty.washington.edu/gloftus/P317-318/Useful_Information/r_to_z/PearsonrCIs.pdf)):\n",
        "\n",
        "1\\. Take the Fisher's z-transformation of r:\n",
        "\n",
        "$\\quad z=0.5\\times ln(\\frac{1+r}{1-r})$\n",
        "\n",
        "2\\. Compute its standard deviation as:\n",
        "\n",
        "$\\quad s_z=\\sqrt{\\frac{1}{n-3}}$\n",
        "\n",
        "3\\. Compute confidence intervals in this z-space as we have shown [here](https://colab.research.google.com/drive/1rdJMusMZDTaM9OGsyt27tCVkSasmRj2O?usp=sharing), as:\n",
        "\n",
        "$\\quad z \\pm (z\\:criterion) \\times s_z$\n",
        "\n",
        "where the *z* criterion is determined from the desired confidence value using a [z-score calculator](http://www.z-table.com) or [norminv](https://www.mathworks.com/help/stats/norminv.html) in Matlab.\n",
        "\n",
        "4\\. Then translate each *z* value back to *r* as:\n",
        "\n",
        "$\\quad r=\\frac{e^{2z}-1}{e^{2z}+1}$\n"
      ]
    },
    {
      "cell_type": "markdown",
      "metadata": {
        "id": "ELEb_vqYQGdK"
      },
      "source": [
        "## Hypothesis testing on the sample Pearson's correlation coefficient"
      ]
    },
    {
      "cell_type": "markdown",
      "metadata": {
        "id": "5VSSh3pMQIJf"
      },
      "source": [
        "For $H_0: r=0$. Here we are considering a null distribution that is centered at *r*=0. In this case, we know that the distribution of *r* around that mean is symmetric, and the sample mean follows follows a [Student's *t* distribution](https://colab.research.google.com/drive/1Q_Du5NK71Rc1qu-byh8dy8Fs39uvR_4n?usp=sharing).  Therefore, our test statistic is simply the *t* statistic, which we compute as the residual (with respect to zero) of *r* divided by its standard error:\n",
        "\n",
        "$\\quad t=\\frac{r}{s_r}$\n",
        "\n",
        "with $n-2$ degrees of freedom.\n",
        "\n",
        "For $H_0: r=r_s,\\:where\\:r_s\\ne 0$. Here we are considering null distributions that are not centered at $r=0$ and therefore are not symmetric and do not follow a *t* distribution. We therefore first compute the *z* transformation of $r$ and $r_s$, as above. Now our test statistic is:\n",
        "\n",
        "$\\quad \\lambda =\\frac{z_r-z_{rs}}{\\sqrt{\\frac{1}{n-3}}}$\n",
        "\n",
        "with $n-2$ degrees of freedom.\n",
        "\n"
      ]
    },
    {
      "cell_type": "markdown",
      "metadata": {
        "id": "nvmWeSSHSF95"
      },
      "source": [
        "# Exercises"
      ]
    },
    {
      "cell_type": "markdown",
      "metadata": {
        "id": "bki88QRVSaj8"
      },
      "source": [
        "Let's examine the relationship between these two measured variables:\n",
        "\n",
        "Wing length | Tail length\n",
        "--- | ---\n",
        "10.4 | 7.4\n",
        "10.8 | 7.6\n",
        "11.1 | 7.9\n",
        "10.2 | 7.2\n",
        "10.3 | 7.4\n",
        "10.2 | 7.1\n",
        "10.7 | 7.4\n",
        "10.5 | 7.2\n",
        "10.8 | 7.8\n",
        "11.2 | 7.7\n",
        "10.6 | 7.8\n",
        "11.4 | 8.3\n",
        "\n",
        "Assume Wing length is the $X$ variable and Tail Length is the $Y$ variable, both measured in cm.\n",
        "\n",
        "Answers to the questions below will be found [here](https://github.com/PennNGG/Quantitative-Neuroscience/tree/master/Answers%20to%20Exercises/Python) after the due date."
      ]
    },
    {
      "cell_type": "markdown",
      "metadata": {
        "id": "zIfgeegzTlJl"
      },
      "source": [
        "##### 1\\. Plot X vs Y. Do they look related?"
      ]
    },
    {
      "cell_type": "code",
      "source": [
        "import matplotlib.pyplot as plt\n",
        "\n",
        "# Data\n",
        "wing_length = [10.4, 10.8, 11.1, 10.2, 10.3, 10.2, 10.7, 10.5, 10.8, 11.2, 10.6, 11.4]\n",
        "tail_length = [7.4, 7.6, 7.9, 7.2, 7.4, 7.1, 7.4, 7.2, 7.8, 7.7, 7.8, 8.3]\n",
        "\n",
        "# Create a scatter plot\n",
        "plt.figure(figsize=(8, 6))  # Optional: Set the figure size\n",
        "plt.scatter(wing_length, tail_length, marker='o', color='blue', label='Data Points')\n",
        "plt.title('Scatter Plot of Wing Length vs. Tail Length')\n",
        "plt.xlabel('Wing Length (cm)')\n",
        "plt.ylabel('Tail Length (cm)')\n",
        "plt.grid(True)\n",
        "\n",
        "# Display the plot\n",
        "plt.legend()\n",
        "plt.show()"
      ],
      "metadata": {
        "colab": {
          "base_uri": "https://localhost:8080/",
          "height": 564
        },
        "id": "wSSvKl5XxUUN",
        "outputId": "f8c4c5f1-19eb-4d6c-809c-e69a24fdfa74"
      },
      "execution_count": 1,
      "outputs": [
        {
          "output_type": "display_data",
          "data": {
            "text/plain": [
              "<Figure size 800x600 with 1 Axes>"
            ],
            "image/png": "[encoded data removed]"
          },
          "metadata": {}
        }
      ]
    },
    {
      "cell_type": "markdown",
      "source": [
        "Yes, they look related."
      ],
      "metadata": {
        "id": "eAibqyaIxZUE"
      }
    },
    {
      "cell_type": "markdown",
      "metadata": {
        "id": "v4ihoOv0TzTk"
      },
      "source": [
        "##### 2\\. Calculate $r_{X,Y}$ and $r_{Y,X}$, first using the equations above and then using either the Python numpy funciton [corrcoef](https://numpy.org/doc/stable/reference/generated/numpy.corrcoef.html) or Matlab's built-in [corrcoef](https://www.mathworks.com/help/matlab/ref/corrcoef.html). Did you get the same answers?"
      ]
    },
    {
      "cell_type": "code",
      "source": [
        "import numpy as np\n",
        "\n",
        "# Data\n",
        "wing_length = np.array([10.4, 10.8, 11.1, 10.2, 10.3, 10.2, 10.7, 10.5, 10.8, 11.2, 10.6, 11.4])\n",
        "tail_length = np.array([7.4, 7.6, 7.9, 7.2, 7.4, 7.1, 7.4, 7.2, 7.8, 7.7, 7.8, 8.3])\n",
        "\n",
        "# Calculate the means\n",
        "mean_wing_length = np.mean(wing_length)\n",
        "mean_tail_length = np.mean(tail_length)\n",
        "\n",
        "# Calculate rX,Y (Wing Length vs. Tail Length)\n",
        "numerator_XY = np.sum((wing_length - mean_wing_length) * (tail_length - mean_tail_length))\n",
        "denom_wing_XY = np.sqrt(np.sum((wing_length - mean_wing_length)**2))\n",
        "denom_tail_XY = np.sqrt(np.sum((tail_length - mean_tail_length)**2))\n",
        "r_XY = numerator_XY / (denom_wing_XY * denom_tail_XY)\n",
        "\n",
        "# Calculate rY,X (Tail Length vs. Wing Length)\n",
        "numerator_YX = np.sum((tail_length - mean_tail_length) * (wing_length - mean_wing_length))\n",
        "denom_tail_YX = np.sqrt(np.sum((tail_length - mean_tail_length)**2))\n",
        "denom_wing_YX = np.sqrt(np.sum((wing_length - mean_wing_length)**2))\n",
        "r_YX = numerator_YX / (denom_tail_YX * denom_wing_YX)\n",
        "\n",
        "print(\"rX,Y (Manually Calculated):\", r_XY)\n",
        "print(\"rY,X (Manually Calculated):\", r_YX)"
      ],
      "metadata": {
        "colab": {
          "base_uri": "https://localhost:8080/"
        },
        "id": "4HUAsO6Oyngp",
        "outputId": "eaaa79dc-687c-439d-97c1-e541257eb86b"
      },
      "execution_count": 4,
      "outputs": [
        {
          "output_type": "stream",
          "name": "stdout",
          "text": [
            "rX,Y (Manually Calculated): 0.8703545613058227\n",
            "rY,X (Manually Calculated): 0.8703545613058227\n"
          ]
        }
      ]
    },
    {
      "cell_type": "code",
      "source": [
        "import numpy as np\n",
        "\n",
        "# Data\n",
        "wing_length = [10.4, 10.8, 11.1, 10.2, 10.3, 10.2, 10.7, 10.5, 10.8, 11.2, 10.6, 11.4]\n",
        "tail_length = [7.4, 7.6, 7.9, 7.2, 7.4, 7.1, 7.4, 7.2, 7.8, 7.7, 7.8, 8.3]\n",
        "\n",
        "# Calculate rX,Y and rY,X using NumPy corrcoef\n",
        "r_XY = np.corrcoef(wing_length, tail_length)[0, 1]\n",
        "r_YX = np.corrcoef(tail_length, wing_length)[0, 1]\n",
        "\n",
        "print(\"rX,Y:\", r_XY)\n",
        "print(\"rY,X:\", r_YX)"
      ],
      "metadata": {
        "colab": {
          "base_uri": "https://localhost:8080/"
        },
        "id": "HjB6V9Xgxruj",
        "outputId": "3c21fb56-29db-4e47-af51-dc620123923b"
      },
      "execution_count": 2,
      "outputs": [
        {
          "output_type": "stream",
          "name": "stdout",
          "text": [
            "rX,Y: 0.8703545613058227\n",
            "rY,X: 0.8703545613058227\n"
          ]
        }
      ]
    },
    {
      "cell_type": "markdown",
      "source": [
        "Yes, I got the same answers manually and by using the corrcoef formula."
      ],
      "metadata": {
        "id": "uPU07vdgyrtM"
      }
    },
    {
      "cell_type": "markdown",
      "metadata": {
        "id": "XqoZSFdZU5zg"
      },
      "source": [
        "##### 3\\. What is the standard error of $r_{X,Y}$? The 95% confidence intervals computed from the standard error?"
      ]
    },
    {
      "cell_type": "code",
      "source": [
        "import numpy as np\n",
        "\n",
        "# Data\n",
        "wing_length = np.array([10.4, 10.8, 11.1, 10.2, 10.3, 10.2, 10.7, 10.5, 10.8, 11.2, 10.6, 11.4])\n",
        "tail_length = np.array([7.4, 7.6, 7.9, 7.2, 7.4, 7.1, 7.4, 7.2, 7.8, 7.7, 7.8, 8.3])\n",
        "\n",
        "# Calculate rX,Y manually (as done previously)\n",
        "mean_wing_length = np.mean(wing_length)\n",
        "mean_tail_length = np.mean(tail_length)\n",
        "numerator_XY = np.sum((wing_length - mean_wing_length) * (tail_length - mean_tail_length))\n",
        "denom_wing_XY = np.sqrt(np.sum((wing_length - mean_wing_length)**2))\n",
        "denom_tail_XY = np.sqrt(np.sum((tail_length - mean_tail_length)**2))\n",
        "r_XY = numerator_XY / (denom_wing_XY * denom_tail_XY)\n",
        "\n",
        "# Calculate the standard error of rX,Y\n",
        "n = len(wing_length)\n",
        "SE_r_XY = np.sqrt((1 - r_XY**2) / (n - 2))\n",
        "\n",
        "print(\"Standard Error of rX,Y:\", SE_r_XY)"
      ],
      "metadata": {
        "colab": {
          "base_uri": "https://localhost:8080/"
        },
        "id": "jCohLanWzI8j",
        "outputId": "eb6daee8-c303-4eef-8c6b-f48c5acf7c83"
      },
      "execution_count": 5,
      "outputs": [
        {
          "output_type": "stream",
          "name": "stdout",
          "text": [
            "Standard Error of rX,Y: 0.15571863652567375\n"
          ]
        }
      ]
    },
    {
      "cell_type": "code",
      "source": [
        "import numpy as np\n",
        "from scipy.stats import t\n",
        "\n",
        "# Data\n",
        "wing_length = np.array([10.4, 10.8, 11.1, 10.2, 10.3, 10.2, 10.7, 10.5, 10.8, 11.2, 10.6, 11.4])\n",
        "tail_length = np.array([7.4, 7.6, 7.9, 7.2, 7.4, 7.1, 7.4, 7.2, 7.8, 7.7, 7.8, 8.3])\n",
        "\n",
        "# Calculate rX,Y and SE_r_XY manually (as done previously)\n",
        "mean_wing_length = np.mean(wing_length)\n",
        "mean_tail_length = np.mean(tail_length)\n",
        "numerator_XY = np.sum((wing_length - mean_wing_length) * (tail_length - mean_tail_length))\n",
        "denom_wing_XY = np.sqrt(np.sum((wing_length - mean_wing_length)**2))\n",
        "denom_tail_XY = np.sqrt(np.sum((tail_length - mean_tail_length)**2))\n",
        "r_XY = numerator_XY / (denom_wing_XY * denom_tail_XY)\n",
        "n = len(wing_length)\n",
        "SE_r_XY = np.sqrt((1 - r_XY**2) / (n - 2))\n",
        "\n",
        "# Calculate the critical value for a 95% confidence interval\n",
        "alpha = 0.05  # Significance level (1 - confidence level)\n",
        "df = n - 2    # Degrees of freedom\n",
        "critical_value = t.ppf(1 - alpha / 2, df)\n",
        "\n",
        "# Calculate the confidence interval\n",
        "lower_bound = r_XY - critical_value * SE_r_XY\n",
        "upper_bound = r_XY + critical_value * SE_r_XY\n",
        "\n",
        "print(\"95% Confidence Interval for rX,Y: ({:.4f}, {:.4f})\".format(lower_bound, upper_bound))"
      ],
      "metadata": {
        "colab": {
          "base_uri": "https://localhost:8080/"
        },
        "id": "WWRN8B2ezb-K",
        "outputId": "68fd5311-3578-47c8-b867-98de59ea2c06"
      },
      "execution_count": 6,
      "outputs": [
        {
          "output_type": "stream",
          "name": "stdout",
          "text": [
            "95% Confidence Interval for rX,Y: (0.5234, 1.2173)\n"
          ]
        }
      ]
    },
    {
      "cell_type": "markdown",
      "metadata": {
        "id": "sU0UjR6uVMl2"
      },
      "source": [
        "##### 4\\. Should the value of $r_{X,Y}$ be considered significant at the *p*<0.05 level, given a two-tailed test (i.e., we reject if the test statistic is too large on either tail of the null distribution) for $H_0: r_{X,Y}=0$?"
      ]
    },
    {
      "cell_type": "code",
      "source": [
        "import numpy as np\n",
        "from scipy.stats import t\n",
        "\n",
        "# Data\n",
        "wing_length = np.array([10.4, 10.8, 11.1, 10.2, 10.3, 10.2, 10.7, 10.5, 10.8, 11.2, 10.6, 11.4])\n",
        "tail_length = np.array([7.4, 7.6, 7.9, 7.2, 7.4, 7.1, 7.4, 7.2, 7.8, 7.7, 7.8, 8.3])\n",
        "\n",
        "# Calculate rX,Y and SE_r_XY manually (as done previously)\n",
        "mean_wing_length = np.mean(wing_length)\n",
        "mean_tail_length = np.mean(tail_length)\n",
        "numerator_XY = np.sum((wing_length - mean_wing_length) * (tail_length - mean_tail_length))\n",
        "denom_wing_XY = np.sqrt(np.sum((wing_length - mean_wing_length)**2))\n",
        "denom_tail_XY = np.sqrt(np.sum((tail_length - mean_tail_length)**2))\n",
        "r_XY = numerator_XY / (denom_wing_XY * denom_tail_XY)\n",
        "n = len(wing_length)\n",
        "SE_r_XY = np.sqrt((1 - r_XY**2) / (n - 2))\n",
        "\n",
        "# Degrees of freedom\n",
        "df = n - 2\n",
        "\n",
        "# Significance level\n",
        "alpha = 0.05\n",
        "\n",
        "# Calculate the critical values for a two-tailed test\n",
        "critical_value_lower = -t.ppf(1 - alpha / 2, df)\n",
        "critical_value_upper = t.ppf(1 - alpha / 2, df)\n",
        "\n",
        "# Calculate the t-statistic\n",
        "t_statistic = r_XY / SE_r_XY\n",
        "\n",
        "# Check significance\n",
        "if abs(t_statistic) > critical_value_upper or abs(t_statistic) < critical_value_lower:\n",
        "    print(\"Reject the null hypothesis: rX,Y is statistically significant.\")\n",
        "else:\n",
        "    print(\"Fail to reject the null hypothesis: rX,Y is not statistically significant.\")\n",
        "\n",
        "print(\"t-statistic:\", t_statistic)\n",
        "print(\"Critical Value (Lower):\", critical_value_lower)\n",
        "print(\"Critical Value (Upper):\", critical_value_upper)"
      ],
      "metadata": {
        "colab": {
          "base_uri": "https://localhost:8080/"
        },
        "id": "GZeEOqDR0J95",
        "outputId": "30e41b4e-9a49-40a4-e27c-0a3d08bd9da1"
      },
      "execution_count": 7,
      "outputs": [
        {
          "output_type": "stream",
          "name": "stdout",
          "text": [
            "Reject the null hypothesis: rX,Y is statistically significant.\n",
            "t-statistic: 5.589276792584329\n",
            "Critical Value (Lower): -2.2281388519649385\n",
            "Critical Value (Upper): 2.2281388519649385\n"
          ]
        }
      ]
    },
    {
      "cell_type": "markdown",
      "metadata": {
        "id": "mywqPzz3Vg0I"
      },
      "source": [
        "##### 5\\. Yale does the exact same study and finds that his correlation value is 0.75. Is this the same as yours? That is, evaluate $𝐻_0: r=0.75$."
      ]
    },
    {
      "cell_type": "code",
      "source": [
        "import numpy as np\n",
        "from scipy.stats import t\n",
        "\n",
        "# Student's calculated correlation value\n",
        "student_r = 0.75\n",
        "\n",
        "# Data (assuming the same dataset)\n",
        "wing_length = np.array([10.4, 10.8, 11.1, 10.2, 10.3, 10.2, 10.7, 10.5, 10.8, 11.2, 10.6, 11.4])\n",
        "tail_length = np.array([7.4, 7.6, 7.9, 7.2, 7.4, 7.1, 7.4, 7.2, 7.8, 7.7, 7.8, 8.3])\n",
        "\n",
        "# Calculate rX,Y and SE_r_XY manually (as done previously)\n",
        "mean_wing_length = np.mean(wing_length)\n",
        "mean_tail_length = np.mean(tail_length)\n",
        "numerator_XY = np.sum((wing_length - mean_wing_length) * (tail_length - mean_tail_length))\n",
        "denom_wing_XY = np.sqrt(np.sum((wing_length - mean_wing_length)**2))\n",
        "denom_tail_XY = np.sqrt(np.sum((tail_length - mean_tail_length)**2))\n",
        "r_XY = numerator_XY / (denom_wing_XY * denom_tail_XY)\n",
        "n = len(wing_length)\n",
        "SE_r_XY = np.sqrt((1 - r_XY**2) / (n - 2))\n",
        "\n",
        "# Degrees of freedom\n",
        "df = n - 2\n",
        "\n",
        "# Significance level\n",
        "alpha = 0.05\n",
        "\n",
        "# Calculate the t-statistic\n",
        "t_statistic = (student_r - 0.75) / SE_r_XY\n",
        "\n",
        "# Calculate the critical values for a two-tailed test\n",
        "critical_value_lower = -t.ppf(1 - alpha / 2, df)\n",
        "critical_value_upper = t.ppf(1 - alpha / 2, df)\n",
        "\n",
        "# Compare the t-statistic to the critical values\n",
        "if t_statistic < -critical_value_upper or t_statistic > critical_value_upper:\n",
        "    print(\"Reject the null hypothesis: r is statistically significantly different from 0.75.\")\n",
        "else:\n",
        "    print(\"Fail to reject the null hypothesis: r is not statistically significantly different from 0.75.\")\n",
        "\n",
        "print(\"t-statistic:\", t_statistic)\n",
        "print(\"Critical Value (Lower):\", -critical_value_upper)\n",
        "print(\"Critical Value (Upper):\", critical_value_upper)"
      ],
      "metadata": {
        "colab": {
          "base_uri": "https://localhost:8080/"
        },
        "id": "Mk6iHyH10v1D",
        "outputId": "6ab54a53-69d2-464f-e85e-dbaf2f32ea4e"
      },
      "execution_count": 8,
      "outputs": [
        {
          "output_type": "stream",
          "name": "stdout",
          "text": [
            "Fail to reject the null hypothesis: r is not statistically significantly different from 0.75.\n",
            "t-statistic: 0.0\n",
            "Critical Value (Lower): -2.2281388519649385\n",
            "Critical Value (Upper): 2.2281388519649385\n"
          ]
        }
      ]
    },
    {
      "cell_type": "markdown",
      "metadata": {
        "id": "qYW4bBQ7Vxa-"
      },
      "source": [
        "##### 6\\. Finally, calculate the statistical power and sample size needed to reject $H_0:r=0\\:when\\:r\\ge 0.5$."
      ]
    },
    {
      "cell_type": "code",
      "source": [
        "import numpy as np\n",
        "import statsmodels.api as sm\n",
        "\n",
        "# Define parameters\n",
        "alpha = 0.05  # Significance level\n",
        "desired_power = 0.80  # Desired level of power (80%)\n",
        "\n",
        "# Define a range of effect sizes (true correlations)\n",
        "effect_sizes = np.linspace(0.5, 0.9, 11)\n",
        "\n",
        "# Initialize an empty list to store the required sample sizes\n",
        "required_sample_sizes = []\n",
        "\n",
        "# Calculate the required sample size for each effect size\n",
        "for effect_size in effect_sizes:\n",
        "    # Calculate the required sample size for the specified power and effect size\n",
        "    required_sample_size = sm.stats.TTestIndPower().solve_power(\n",
        "        effect_size=effect_size,\n",
        "        alpha=alpha,\n",
        "        power=desired_power,\n",
        "        alternative='larger',  # One-tailed test\n",
        "    )\n",
        "    required_sample_sizes.append(required_sample_size)\n",
        "\n",
        "# Print the results\n",
        "for i, effect_size in enumerate(effect_sizes):\n",
        "    print(f\"Effect Size (r): {effect_size:.2f} - Required Sample Size: {int(required_sample_sizes[i])}\")"
      ],
      "metadata": {
        "colab": {
          "base_uri": "https://localhost:8080/"
        },
        "id": "VrMs9n311Ko7",
        "outputId": "71625f20-94e2-4711-d81c-5e82b88b9925"
      },
      "execution_count": 9,
      "outputs": [
        {
          "output_type": "stream",
          "name": "stdout",
          "text": [
            "Effect Size (r): 0.50 - Required Sample Size: 50\n",
            "Effect Size (r): 0.54 - Required Sample Size: 43\n",
            "Effect Size (r): 0.58 - Required Sample Size: 37\n",
            "Effect Size (r): 0.62 - Required Sample Size: 32\n",
            "Effect Size (r): 0.66 - Required Sample Size: 29\n",
            "Effect Size (r): 0.70 - Required Sample Size: 25\n",
            "Effect Size (r): 0.74 - Required Sample Size: 23\n",
            "Effect Size (r): 0.78 - Required Sample Size: 21\n",
            "Effect Size (r): 0.82 - Required Sample Size: 19\n",
            "Effect Size (r): 0.86 - Required Sample Size: 17\n",
            "Effect Size (r): 0.90 - Required Sample Size: 15\n"
          ]
        }
      ]
    },
    {
      "cell_type": "markdown",
      "metadata": {
        "id": "UqoNXyuxP-go"
      },
      "source": [
        "# Additional Resources\n"
      ]
    },
    {
      "cell_type": "code",
      "source": [],
      "metadata": {
        "id": "jDqQYCv61SLC"
      },
      "execution_count": null,
      "outputs": []
    },
    {
      "cell_type": "markdown",
      "metadata": {
        "id": "clnBO4FU28El"
      },
      "source": [
        "- Differences between correlation and regression are discussed [here](https://www.bmj.com/about-bmj/resources-readers/publications/statistics-square-one/11-correlation-and-regression) and [here](http://www.biostathandbook.com/linearregression.html).\n",
        "\n",
        "- A reference on [how to choose the appropriate measure of association](https://journals.sagepub.com/doi/pdf/10.1177/8756479308317006) (Khamis 2008)."
      ]
    },
    {
      "cell_type": "markdown",
      "metadata": {
        "id": "tteEm2Qlgbb3"
      },
      "source": [
        "# Credits\n",
        "\n",
        "Copyright 2021 by Joshua I. Gold, University of Pennsylvania"
      ]
    }
  ],
  "metadata": {
    "colab": {
      "collapsed_sections": [
        "IyCyVIIDH0rb",
        "xDpz-ktIJGhf",
        "ELEb_vqYQGdK",
        "NUeNn8deHBch",
        "nvmWeSSHSF95",
        "zIfgeegzTlJl",
        "v4ihoOv0TzTk",
        "XqoZSFdZU5zg",
        "sU0UjR6uVMl2",
        "mywqPzz3Vg0I",
        "qYW4bBQ7Vxa-"
      ],
      "provenance": []
    },
    "kernelspec": {
      "display_name": "Python 3",
      "name": "python3"
    },
    "language_info": {
      "name": "python"
    }
  },
  "nbformat": 4,
  "nbformat_minor": 0
}