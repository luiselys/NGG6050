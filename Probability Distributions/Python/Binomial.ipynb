{
  "cells": [
    {
      "cell_type": "markdown",
      "metadata": {
        "id": "view-in-github",
        "colab_type": "text"
      },
      "source": [
        "<a href=\"https://colab.research.google.com/github/luiselys/NGG605public/blob/main/Probability%20Distributions/Python/Binomial.ipynb\" target=\"_parent\"><img src=\"https://colab.research.google.com/assets/colab-badge.svg\" alt=\"Open In Colab\"/></a>"
      ]
    },
    {
      "cell_type": "markdown",
      "metadata": {
        "id": "fIf4TPiRii-O"
      },
      "source": [
        "[![Open In Colab](https://colab.research.google.com/assets/colab-badge.svg)](https://colab.research.google.com/github/PennNGG/Quantitative-Neuroscience/blob/master/Probability%20Distributions/Python/Binomial.ipynb)"
      ]
    },
    {
      "cell_type": "markdown",
      "metadata": {
        "id": "pKIiY6p3GRFq"
      },
      "source": [
        "# Definition"
      ]
    },
    {
      "cell_type": "markdown",
      "metadata": {
        "id": "x7VmLUr5GTNw"
      },
      "source": [
        "The binomial distribution is a discrete probability distribution that describes the probability of obtaining exactly k successes out of n Bernoulli trials, which are individual binary outcomes that each have a success probability of p. For example, if you flip a coin 10 times, what is the probability that it will come up heads 0, 1, 2, ... 10 times?\n",
        "\n",
        "Mathematically, this distribution defines the probability of obtaining *k* successes in *n* trials given a constant probability of success *p* on each trial, which is defined as:\n",
        "\n",
        "[1] $P(X=k\\: successes)=\\left ( \\frac{n}{k} \\right )p^{k}\\left ( 1-p \\right )^{n-k}$\n",
        "\n",
        "for *k* = 0, 1, 2, ... , *n*, and where\n",
        "\n",
        "$\\left ( \\frac{n}{k} \\right )=\\frac{n!}{k!\\left ( n-k \\right )!}$\n",
        "\n",
        " is called the \"binomial coefficient\" and is pronounced \"[n-choose-k](https://www.hackmath.net/en/calculator/n-choose-k)\""
      ]
    },
    {
      "cell_type": "markdown",
      "metadata": {
        "id": "bkVu6eGKIIiQ"
      },
      "source": [
        "# Getting Started with Code\n"
      ]
    },
    {
      "cell_type": "markdown",
      "metadata": {
        "id": "gxusMZ-UN_6m"
      },
      "source": [
        "Matlab code is found in the [NGG Statistics GitHub Repository](https://github.com/PennNGG/Statistics.git) under \"Probability Distributions/Binomial.m\".\n",
        "\n",
        "Python code is included below. First run the code cell just below to make sure all of the required Python modules are loaded, then you can run the other cell(s)."
      ]
    },
    {
      "cell_type": "code",
      "execution_count": 4,
      "metadata": {
        "id": "W633IbbRIdwa"
      },
      "outputs": [],
      "source": [
        "import numpy as np\n",
        "import random as rnd\n",
        "import collections\n",
        "import matplotlib.pyplot as plt\n",
        "import time\n",
        "import scipy.stats as st\n",
        "\n",
        "from scipy.stats import bernoulli, binom, poisson, chi2\n",
        "from IPython.display import clear_output\n",
        "from operator import itemgetter\n",
        "from statsmodels.stats import proportion\n",
        "\n",
        "from numpy import matlib"
      ]
    },
    {
      "cell_type": "markdown",
      "metadata": {
        "id": "u3yXPCmMH2CH"
      },
      "source": [
        "# Tutorial"
      ]
    },
    {
      "cell_type": "code",
      "execution_count": 5,
      "metadata": {
        "colab": {
          "base_uri": "https://localhost:8080/"
        },
        "id": "4ESB1xpmItGp",
        "outputId": "e86a4e5a-3e75-4b78-f629-86bdf61dc613"
      },
      "outputs": [
        {
          "output_type": "stream",
          "name": "stdout",
          "text": [
            "707 successes out of 1000 trials, simulated p = 0.7000, empirical p = 0.7070\n"
          ]
        }
      ],
      "source": [
        "# Choose some values for the parameters n and p\n",
        "p = 0.7\n",
        "n = 1000\n",
        "\n",
        "# Generate random picks. Note that this is as if we generated Bernoulli trials\n",
        "#   as above, but then just counted the successes in each \"experiment\"\n",
        "num_successes = binom.rvs(n,p) # uses the \"random variates\" method (rvs) of binom\n",
        "\n",
        "# Print out the results\n",
        "print(f'{num_successes} successes out of {n} trials, simulated p = {p:.4f}, empirical p = {num_successes/n:.4f}')"
      ]
    },
    {
      "cell_type": "code",
      "execution_count": 13,
      "metadata": {
        "colab": {
          "base_uri": "https://localhost:8080/",
          "height": 472
        },
        "id": "AWJMhBIZIuFU",
        "outputId": "730cb214-e13b-4f6c-e5c3-04f946b7afaf"
      },
      "outputs": [
        {
          "output_type": "display_data",
          "data": {
            "text/plain": [
              "<Figure size 640x480 with 2 Axes>"
            ],
            "image/png": "[encoded data removed]"
          },
          "metadata": {}
        }
      ],
      "source": [
        "# The full probability distribution describes the probabilty of obtaining each\n",
        "#   possible number of successes (k), given n and p. If we set n=10, the the\n",
        "#   possible values of k are 0, 1, ..., 10. Now we use binom.rvs to simulate\n",
        "#   many different picks to get a full distribution\n",
        "p = 0.7\n",
        "n = 10                      # number of \"trials\" per \"experiment\"\n",
        "num_experiments = 4000;     # number of \"experiments\"\n",
        "outcomes = binom.rvs(n,p,size=num_experiments)\n",
        "\n",
        "# Show a bar plot (histogram) of all of the possible outcomes\n",
        "counts = collections.Counter(outcomes)\n",
        "plt.subplot(211)\n",
        "plt.bar(counts.keys(), counts.values())\n",
        "plt.xlim([-1, n+1])\n",
        "plt.title(f'Binomial distribution, n={n}, p={p:.2f}, {num_experiments} simulations')\n",
        "plt.ylabel('Count')\n",
        "\n",
        "# Show a normalized version that is a pdf. Here counts (the x-axis of the histogram)\n",
        "#   is a DISCRETE variable, so we just have to add up the values\n",
        "normalized_counts = {k: v / total for total in (sum(counts.values()),) for k, v in counts.items()}\n",
        "plt.subplot(212)\n",
        "plt.bar(normalized_counts.keys(), normalized_counts.values())\n",
        "plt.xlim([-1, n+1])\n",
        "plt.xlabel(f'Probability of success in {n} tries')\n",
        "plt.ylabel('Probability')\n",
        "plt.subplots_adjust(hspace=0.3)"
      ]
    },
    {
      "cell_type": "code",
      "execution_count": 7,
      "metadata": {
        "colab": {
          "base_uri": "https://localhost:8080/",
          "height": 472
        },
        "id": "XxTbmZOSJEl8",
        "outputId": "72a0fbd5-b63d-425f-e931-a7c62fc37860"
      },
      "outputs": [
        {
          "output_type": "display_data",
          "data": {
            "text/plain": [
              "<Figure size 640x480 with 1 Axes>"
            ],
            "image/png": "[encoded data removed]"
          },
          "metadata": {}
        }
      ],
      "source": [
        "# Now let's make a fun animation showing different values of p and N.\n",
        "#   Note that, of course, the more picks you make of the random variable\n",
        "#   (higher N), the more closely the outcomes (the \"samples\") match the true\n",
        "#   distribution.\n",
        "n=10\n",
        "xs = range(0, n)\n",
        "f = plt.figure()\n",
        "for p in np.arange(0, 1, 0.1):\n",
        "    for N in np.round(np.logspace(1,5,10)):\n",
        "\n",
        "        # Get the true binomial pdf\n",
        "        Y = binom.pmf(xs,n,p)\n",
        "\n",
        "        # Get the random picks, make histogram and normalize\n",
        "        counts = collections.Counter(binom.rvs(n,p,size=int(N)))\n",
        "        normalized_counts = {k: v / total for total in (sum(counts.values()),) for k, v in counts.items()}\n",
        "\n",
        "        # Show both\n",
        "        plt.bar(normalized_counts.keys(), normalized_counts.values())\n",
        "        plt.plot(xs, Y, 'ro-', linewidth=2, markersize=10)\n",
        "\n",
        "        # Labels, etc\n",
        "        plt.title(f'p={p:.1f}, n={n}, N={N:.2f}')\n",
        "        plt.xlabel(f'Number of successes in {n} tries')\n",
        "        plt.ylabel('Probability')\n",
        "        plt.axis([-1, n+1, 0, 0.45])\n",
        "        plt.legend(('Theoretical', 'Simulated'))\n",
        "        plt.show()\n",
        "\n",
        "        # Wait\n",
        "        time.sleep(0.1)\n",
        "\n",
        "        # Clear for next plot\n",
        "        clear_output(wait=True)\n",
        "\n"
      ]
    },
    {
      "cell_type": "code",
      "execution_count": 14,
      "metadata": {
        "colab": {
          "base_uri": "https://localhost:8080/",
          "height": 490
        },
        "id": "kUAJ6LCyJbRN",
        "outputId": "4c544406-6746-4562-dad7-7a1b809b6b94"
      },
      "outputs": [
        {
          "output_type": "execute_result",
          "data": {
            "text/plain": [
              "<matplotlib.legend.Legend at 0x783f023c4be0>"
            ]
          },
          "metadata": {},
          "execution_count": 14
        },
        {
          "output_type": "display_data",
          "data": {
            "text/plain": [
              "<Figure size 640x480 with 1 Axes>"
            ],
            "image/png": "[encoded data removed]"
          },
          "metadata": {}
        }
      ],
      "source": [
        "# The cumulative distribution function is just the proability of obtaining an\n",
        "#   outcome that is equal to OR LESS THAN a particular value.\n",
        "p = 0.7\n",
        "n = 10                      # number of \"trials\" per \"experiment\"\n",
        "num_experiments = 3000;     # number of \"experiments\"\n",
        "outcomes = binom.rvs(n,p,size=num_experiments)\n",
        "\n",
        "# Make histogram\n",
        "counts = collections.Counter(outcomes)\n",
        "\n",
        "# Unzip keys from values in a sorted order\n",
        "keys, values = zip(*sorted(counts.items(), key=itemgetter(0)))\n",
        "\n",
        "# Compute the cumulative sum of the counts normalized by the total counts (so\n",
        "#   it is a probability function and not just a histogram -- note that the final\n",
        "#   value in the cdf should equal 1 because every value should be equal to or\n",
        "#   less than that value).\n",
        "total = sum(values)\n",
        "cumulative_ps = [x/total for x in np.cumsum(values)]\n",
        "\n",
        "# Plot as a bar graph\n",
        "plt.bar(keys, cumulative_ps)\n",
        "\n",
        "# Compare it to the real binomial cumulative distribution, which we find\n",
        "#   using binom.cdf\n",
        "Y = binom.cdf(keys,n,p)\n",
        "plt.plot(keys, Y, 'ro-', linewidth=2, markersize=10)\n",
        "\n",
        "# Labels, etc\n",
        "plt.title(f'Cumulative binomial distribution, p={p:.1f}, n={n}, N={num_experiments}')\n",
        "plt.xlabel(f'Number of successes in {n} tries')\n",
        "plt.ylabel('Cumulative probability')\n",
        "plt.legend(('Theoretical', 'Simulated'))"
      ]
    },
    {
      "cell_type": "markdown",
      "metadata": {
        "id": "NPyYR5dgJ4Q9"
      },
      "source": [
        "# Neuroscience Example: Quantal Release"
      ]
    },
    {
      "cell_type": "markdown",
      "metadata": {
        "id": "Egvzk_qLKOYl"
      },
      "source": [
        "From: Johnson, E.W., and Wernig, A. (1971). [The binomial nature of transmitter release at the crayfish neuromuscular junction](https://www.ncbi.nlm.nih.gov/pmc/articles/PMC1331610/). J Physiol 218, 757-767.\n",
        "\n",
        "Classic studies by [Bernard Katz and colleagues](https://www.ncbi.nlm.nih.gov/pmc/articles/PMC2151334/) indicated that chemical neurotransmitters are released from presynaptic nerve terminals in discrete quanta, or packets, with a relatively constant release probability. A straightforward implication of this idea is that the release statistics (i.e., the distribution of the number of quanta that are actually released in response to a given event like an action potential reaching the presynaptic nerve terminal) should follow a binomial distribution. As stated by Johnson and Wernig:\n",
        "\n",
        "\"If the average probability of release is constant, then it follows from the hypothesis that the relative frequency of 0, 1, 2, 3, . . . quantal releases in a series of trials is given by the successive terms in the binomial expansion $(p + q)^n$, where *q*=1–*p* is the average probability that a quantum will not be released. In a given trial, the probability that *x* quanta will be released (*px*) is given by the binomial term\" [i.e., Eq. 1, above, but substitute *x* for *k*].\n",
        "\n",
        "In other words, if there are *n* available quanta in a presynaptic terminal, and each is released with probability *p*, then the number of quanta that are actually released should follow a binomial distribution with parameters *n* and *p*.\n",
        "\n",
        "Answers to the exercises below will be found [here](https://github.com/PennNGG/Quantitative-Neuroscience/tree/master/Answers%20to%20Exercises/Python) after the due date."
      ]
    },
    {
      "cell_type": "markdown",
      "metadata": {
        "id": "VveIEEiyLUSk"
      },
      "source": [
        "## Exercise 1\n",
        "Assume that there are 10 quanta available in a nerve terminal, and for a given release event each is released with a probability of 0.2. For one such event, what is the probability that 0, 1, 2, 3, 4, 5, 6, 7, 8, 9, or 10 quanta will be released?"
      ]
    },
    {
      "cell_type": "code",
      "source": [
        "import scipy.stats as stats\n",
        "\n",
        "# parameters\n",
        "n = 10  # Total number of quanta available\n",
        "p = 0.2  # Probability of releasing a single quantum\n",
        "\n",
        "# Calculate probabilities for 0 through 10 quanta being released\n",
        "probabilities = [stats.binom.pmf(k, n, p) for k in range(11)]\n",
        "\n",
        "# Print probabilities\n",
        "for k, prob in enumerate(probabilities):\n",
        "    print(f'P(X = {k}) = {prob:.4f}')"
      ],
      "metadata": {
        "colab": {
          "base_uri": "https://localhost:8080/"
        },
        "id": "m1AcXKtpz7RJ",
        "outputId": "5e11edf4-8466-47d5-fa90-ea79d8d0cae1"
      },
      "execution_count": null,
      "outputs": [
        {
          "output_type": "stream",
          "name": "stdout",
          "text": [
            "P(X = 0) = 0.1074\n",
            "P(X = 1) = 0.2684\n",
            "P(X = 2) = 0.3020\n",
            "P(X = 3) = 0.2013\n",
            "P(X = 4) = 0.0881\n",
            "P(X = 5) = 0.0264\n",
            "P(X = 6) = 0.0055\n",
            "P(X = 7) = 0.0008\n",
            "P(X = 8) = 0.0001\n",
            "P(X = 9) = 0.0000\n",
            "P(X = 10) = 0.0000\n"
          ]
        }
      ]
    },
    {
      "cell_type": "markdown",
      "metadata": {
        "id": "eG7Kvl5pL4jf"
      },
      "source": [
        "## Exercise 2\n",
        "Let's say you know that a given nerve terminal contains exactly 14 quanta available for release. You have read in the literature that the release probability of these quanta is low, say 0.1. To assess whether this value is reasonable, you run a simple experiment: activate the nerve and measure the number of quanta that are released. The result is 8 quanta. What is the probability that you would get this result (8 quanta) if the true probability of release really was 0.1? What about if the true release probability was much higher; say, 0.7? What about for each decile of release probability (0.1, 0.2, ... 1.0)? Which value of release probability did you determine to be the most probable, given your measurement?\n",
        "\n",
        "Note: here you are computing a likelihood function: a function describing how the value of the conditional probability *p*(*data* | *parameters*) changes when you hold your data fixed to the value(s) you measured and vary the value(s) of the parameter(s) of, in this case, the binomial distribution. Because you are varying the parameters and not the data, the values of the function are not expected to sum to one (e.g., you can have numerous parameters that have a very high probability of producing the given data) and thus this function is not a probability distribution (see [here](https://www.psychologicalscience.org/observer/bayes-for-beginners-probability-and-likelihood) for an extended discussion). The maximum value of this function is called the maximum likelihood."
      ]
    },
    {
      "cell_type": "code",
      "source": [
        "import scipy.stats as stats\n",
        "\n",
        "observed_quanta = 8\n",
        "total_quanta = 14\n",
        "\n",
        "# list of release probabilities (from 0.1 to 1.0 in increments of 0.1)\n",
        "release_probabilities = [i / 10.0 for i in range(1, 11)]\n",
        "\n",
        "# Calculate the likelihood for each release probability\n",
        "likelihoods = []\n",
        "for p in release_probabilities:\n",
        "    likelihood = stats.binom.pmf(observed_quanta, total_quanta, p)\n",
        "    likelihoods.append(likelihood)\n",
        "\n",
        "# release probability with the maximum likelihood\n",
        "max_likelihood_index = likelihoods.index(max(likelihoods))\n",
        "max_likelihood_release_prob = release_probabilities[max_likelihood_index]\n",
        "\n",
        "# Print results\n",
        "for i, p in enumerate(release_probabilities):\n",
        "    print(f'p = {p:.1f}: Likelihood = {likelihoods[i]:.4e}')\n",
        "\n",
        "print(f\"The most probable release probability is p = {max_likelihood_release_prob:.1f} with maximum likelihood.\")"
      ],
      "metadata": {
        "id": "qoKDag60Z-jl",
        "outputId": "71819a79-d0c2-4a83-dd89-4f9268afe662",
        "colab": {
          "base_uri": "https://localhost:8080/"
        }
      },
      "execution_count": null,
      "outputs": [
        {
          "output_type": "stream",
          "name": "stdout",
          "text": [
            "p = 0.1: Likelihood = 1.5959e-05\n",
            "p = 0.2: Likelihood = 2.0153e-03\n",
            "p = 0.3: Likelihood = 2.3180e-02\n",
            "p = 0.4: Likelihood = 9.1821e-02\n",
            "p = 0.5: Likelihood = 1.8329e-01\n",
            "p = 0.6: Likelihood = 2.0660e-01\n",
            "p = 0.7: Likelihood = 1.2620e-01\n",
            "p = 0.8: Likelihood = 3.2244e-02\n",
            "p = 0.9: Likelihood = 1.2927e-03\n",
            "p = 1.0: Likelihood = 0.0000e+00\n",
            "The most probable release probability is p = 0.6 with maximum likelihood.\n"
          ]
        }
      ]
    },
    {
      "cell_type": "markdown",
      "metadata": {
        "id": "-INGaYFtM-Cp"
      },
      "source": [
        "## Exercise 3\n",
        "\n",
        "Not feeling convinced by your single experiment (good scientist!), you repeat it under identical conditions. This time you measure 5 quanta that were released. Your sample size has now doubled, to two measurements. You now want to take into account both measurements when you assess the likelihoods of different possible values of the underlying release probability. To do so, assume that the two measurements in this sample are independent of one another; that is, the value of each result had no bearing on the other. In this case, the total likelihood is simply the product of the likelihoods associated with each separate measurement. It is also typical to compute the logarithm of each likelihood and take their sum, which is often more convenient. What are the values of the total likelihood and total log-likelihood in this example, if we assume that the true release probability is 0.1?\n",
        "\n",
        "Of course, knowing those values of the likelihood and log-likelihood is not particularly useful until you can compare them to the values computed for other possible values for the release probability, so you can determine which value of release probability is most likely, given the data. Therefore, compute the full likelihood and log-likelihood functions using deciles of release probability between 0 and 1. What is the maximum value? Can you improve your estimate by computing the functions at a higher resolution? How does the estimate improve as you increase the sample size?"
      ]
    },
    {
      "cell_type": "code",
      "source": [
        "import scipy.stats as stats\n",
        "import numpy as np\n",
        "\n",
        "# Given data for the two measurements\n",
        "observed_quanta_1 = 8\n",
        "observed_quanta_2 = 5\n",
        "total_quanta = 14\n",
        "\n",
        "# True release probability (for comparison)\n",
        "true_release_probability = 0.1\n",
        "\n",
        "# Create a list of release probabilities (from 0 to 1 in increments of 0.1)\n",
        "release_probabilities = np.linspace(0, 1, 11)\n",
        "\n",
        "# Initialize lists to store likelihoods and log-likelihoods\n",
        "likelihoods = []\n",
        "log_likelihoods = []\n",
        "\n",
        "# Calculate likelihoods and log-likelihoods for each release probability\n",
        "for p in release_probabilities:\n",
        "    # Calculate likelihood for each measurement (assuming independence)\n",
        "    likelihood_1 = stats.binom.pmf(observed_quanta_1, total_quanta, p)\n",
        "    likelihood_2 = stats.binom.pmf(observed_quanta_2, total_quanta, p)\n",
        "\n",
        "    # Calculate the total likelihood as the product of individual likelihoods\n",
        "    total_likelihood = likelihood_1 * likelihood_2\n",
        "\n",
        "    # Calculate the total log-likelihood as the sum of individual log-likelihoods\n",
        "    total_log_likelihood = np.log(likelihood_1) + np.log(likelihood_2)\n",
        "\n",
        "    likelihoods.append(total_likelihood)\n",
        "    log_likelihoods.append(total_log_likelihood)\n",
        "\n",
        "# Find the release probability with the maximum likelihood and log-likelihood\n",
        "max_likelihood_index = likelihoods.index(max(likelihoods))\n",
        "max_likelihood_release_prob = release_probabilities[max_likelihood_index]\n",
        "\n",
        "max_log_likelihood_index = log_likelihoods.index(max(log_likelihoods))\n",
        "max_log_likelihood_release_prob = release_probabilities[max_log_likelihood_index]\n",
        "\n",
        "# Print the results\n",
        "for i, p in enumerate(release_probabilities):\n",
        "    print(f'p = {p:.1f}: Total Likelihood = {likelihoods[i]:.4e}, Total Log-Likelihood = {log_likelihoods[i]:.4f}')\n",
        "\n",
        "print(f\"The maximum likelihood estimate of release probability is p = {max_likelihood_release_prob:.1f} with maximum total likelihood.\")\n",
        "print(f\"The maximum log-likelihood estimate of release probability is p = {max_log_likelihood_release_prob:.1f} with maximum total log-likelihood.\")"
      ],
      "metadata": {
        "id": "zJ9YNWBzderu",
        "outputId": "b04aefba-d850-425c-9f28-d736e5b21f70",
        "colab": {
          "base_uri": "https://localhost:8080/"
        }
      },
      "execution_count": null,
      "outputs": [
        {
          "output_type": "stream",
          "name": "stdout",
          "text": [
            "p = 0.0: Total Likelihood = 0.0000e+00, Total Log-Likelihood = -inf\n",
            "p = 0.1: Total Likelihood = 1.2378e-07, Total Log-Likelihood = -15.9047\n",
            "p = 0.2: Total Likelihood = 1.7328e-04, Total Log-Likelihood = -8.6606\n",
            "p = 0.3: Total Likelihood = 4.5506e-03, Total Log-Likelihood = -5.3925\n",
            "p = 0.4: Total Likelihood = 1.8970e-02, Total Log-Likelihood = -3.9649\n",
            "p = 0.5: Total Likelihood = 2.2396e-02, Total Log-Likelihood = -3.7989\n",
            "p = 0.6: Total Likelihood = 8.4311e-03, Total Log-Likelihood = -4.7758\n",
            "p = 0.7: Total Likelihood = 8.3582e-04, Total Log-Likelihood = -7.0871\n",
            "p = 0.8: Total Likelihood = 1.0830e-05, Total Log-Likelihood = -11.4332\n",
            "p = 0.9: Total Likelihood = 1.5282e-09, Total Log-Likelihood = -20.2992\n",
            "p = 1.0: Total Likelihood = 0.0000e+00, Total Log-Likelihood = -inf\n",
            "The maximum likelihood estimate of release probability is p = 0.5 with maximum total likelihood.\n",
            "The maximum log-likelihood estimate of release probability is p = 0.5 with maximum total log-likelihood.\n"
          ]
        },
        {
          "output_type": "stream",
          "name": "stderr",
          "text": [
            "<ipython-input-2-f1ccacc8f2aa>:29: RuntimeWarning: divide by zero encountered in log\n",
            "  total_log_likelihood = np.log(likelihood_1) + np.log(likelihood_2)\n"
          ]
        }
      ]
    },
    {
      "cell_type": "markdown",
      "source": [
        "Maximum release probability is 0.5. Resolution did not increase after decreasing intervals from 0.1 to 0.01. Increasing number of experiments/sample size causes outcomes to better match true distribution."
      ],
      "metadata": {
        "id": "DBbXgsWkfTu0"
      }
    },
    {
      "cell_type": "markdown",
      "metadata": {
        "id": "GCN6aNp1N0nC"
      },
      "source": [
        "## Exercise 4\n",
        "\n",
        "You keep going and conduct 100 separate experiments and end up with these results:\n",
        "\n",
        "Measured releases\t| Count\n",
        "---------------- | -------\n",
        "0 | 0\n",
        "1 | 0\n",
        "2 | 3\n",
        "4 | 10\n",
        "5 | 19\n",
        "6 | 26\n",
        "7 | 16\n",
        "8 | 16\n",
        "9 | 5\n",
        "10 | 5\n",
        "11 | 0\n",
        "12 | 0\n",
        "13 | 0\n",
        "14 | 0\n",
        "\n",
        "What is the most likely value of *p* (which we typically refer to as $\\hat{p}$, which is pronounced as \"p-hat\" and represents the maximum-likelihood estimate of a parameter in the population given our sample with a resolution of 0.01?\n",
        "\n",
        "BONUS: Use a fitting procedure to find $\\hat{p}$."
      ]
    },
    {
      "cell_type": "code",
      "source": [
        "import numpy as np\n",
        "import matplotlib.pyplot as plt\n",
        "from scipy.optimize import curve_fit\n",
        "\n",
        "measured_releases = np.array([0, 0, 3, 10, 19, 26, 16, 16, 5, 5, 0, 0, 0, 0])\n",
        "total_experiments = 100\n",
        "\n",
        "# Define binomial\n",
        "def binomial_distribution(k, p):\n",
        "    n = max(measured_k)  # The maximum value in measured_k corresponds to the number of quanta available\n",
        "    return stats.binom.pmf(k, n, p) * total_experiments\n",
        "\n",
        "# Define the measured releases and corresponding counts\n",
        "measured_k = np.array([0, 1, 2, 4, 5, 6, 7, 8, 9, 10, 11, 12, 13, 14])\n",
        "measured_counts = np.array([0, 0, 3, 10, 19, 26, 16, 16, 5, 5, 0, 0, 0, 0])\n",
        "\n",
        "# Fit the binomial distribution to the data\n",
        "params, _ = curve_fit(binomial_distribution, measured_k, measured_counts, p0=[0.1])\n",
        "\n",
        "# Extract the maximum-likelihood estimate\n",
        "p_hat = params[0]\n",
        "\n",
        "print(f\"The maximum-likelihood estimate of release probability (p^) is approximately {p_hat:.2f}\")\n",
        "\n",
        "# Plot the fitted binomial distribution\n",
        "plt.bar(measured_k, measured_counts, label='Measured Data')\n",
        "plt.plot(measured_k, binomial_distribution(measured_k, p_hat), 'r--', label='Fitted Binomial Distribution')\n",
        "plt.xlabel('Number of Quanta Released')\n",
        "plt.ylabel('Count')\n",
        "plt.legend()\n",
        "plt.show()"
      ],
      "metadata": {
        "colab": {
          "base_uri": "https://localhost:8080/",
          "height": 467
        },
        "id": "BWC4DRaylNzq",
        "outputId": "88f1ada2-291c-4720-c78e-0f21e30ee73c"
      },
      "execution_count": 19,
      "outputs": [
        {
          "output_type": "stream",
          "name": "stdout",
          "text": [
            "The maximum-likelihood estimate of release probability (p^) is approximately 0.44\n"
          ]
        },
        {
          "output_type": "display_data",
          "data": {
            "text/plain": [
              "<Figure size 640x480 with 1 Axes>"
            ],
            "image/png": "[encoded data removed]"
          },
          "metadata": {}
        }
      ]
    },
    {
      "cell_type": "markdown",
      "metadata": {
        "id": "9BZG29IBSo6E"
      },
      "source": [
        "## Exercise 5\n",
        "\n",
        "Let's say that you have run an exhaustive set of experiments on this synapse and have determined that the true release probability is 0.3 (within some very small tolerance). Now you want to test whether changing the temperature of the preparation affects the release probability. So you change the temperature, perform the experiment, and measure 7 quantal events for the same 14 available quanta. Compute $\\hat{p}$. Standard statistical inference now asks the question, what is the probability that you would have obtained that measurement given a Null Hypothesis of no effect? In this case, no effect corresponds to an unchanged value of the true release probability (i.e., its value remained at 0.3 even with the temperature change). What is the probability that you would have gotten that measurement if your Null Hypothesis were true? Can you conclude that temperature had an effect?"
      ]
    },
    {
      "cell_type": "code",
      "source": [
        "import numpy as np\n",
        "from scipy.optimize import minimize\n",
        "\n",
        "# Given data\n",
        "observed_events = 7\n",
        "total_quanta = 14\n",
        "\n",
        "# Define the likelihood function\n",
        "def likelihood(p):\n",
        "    return -np.log(binom.pmf(observed_events, total_quanta, p))\n",
        "\n",
        "# Perform the optimization to find p-hat\n",
        "initial_guess = 0.3  # Starting guess for p (the assumed release probability)\n",
        "result = minimize(likelihood, initial_guess, bounds=[(0, 1)], method='L-BFGS-B')\n",
        "\n",
        "# Extract the maximum-likelihood estimate (p-hat)\n",
        "p_hat = result.x[0]\n",
        "\n",
        "print(f\"The maximum-likelihood estimate (p-hat) of release probability is approximately {p_hat:.2f}\")"
      ],
      "metadata": {
        "colab": {
          "base_uri": "https://localhost:8080/"
        },
        "id": "xnBjwUt2oxwR",
        "outputId": "c886c0e8-d192-4f8a-e74e-56e454ca78f6"
      },
      "execution_count": 21,
      "outputs": [
        {
          "output_type": "stream",
          "name": "stdout",
          "text": [
            "The maximum-likelihood estimate (p-hat) of release probability is approximately 0.30\n"
          ]
        },
        {
          "output_type": "stream",
          "name": "stderr",
          "text": [
            "<ipython-input-21-5d41fe82c4ea>:10: RuntimeWarning: divide by zero encountered in log\n",
            "  return -np.log(binom.pmf(observed_events, total_quanta, p))\n"
          ]
        }
      ]
    },
    {
      "cell_type": "markdown",
      "source": [
        "Maximum-likelihood estimate (p-hat) of release probability is approximately 0.3 which aligns with the p-value being greater than 0.05, indicating no significant effect of temperature on release probability."
      ],
      "metadata": {
        "id": "TPrsPJzZqvng"
      }
    },
    {
      "cell_type": "code",
      "source": [
        "from scipy.stats import binom\n",
        "\n",
        "# Parameters under the null hypothesis\n",
        "p_null = 0.3\n",
        "n = 14\n",
        "observed_events = 7\n",
        "\n",
        "# Calculate the cumulative probability of observing 7 or fewer events\n",
        "p_value = binom.cdf(observed_events, n, p_null)\n",
        "\n",
        "print(f\"The p-value is approximately {p_value:.4f}\")"
      ],
      "metadata": {
        "colab": {
          "base_uri": "https://localhost:8080/"
        },
        "id": "lNN9LSXInH5k",
        "outputId": "c9332659-dc55-4355-a14e-8f60ba1b294e"
      },
      "execution_count": 20,
      "outputs": [
        {
          "output_type": "stream",
          "name": "stdout",
          "text": [
            "The p-value is approximately 0.9685\n"
          ]
        }
      ]
    },
    {
      "cell_type": "markdown",
      "source": [
        "The p-value represents the probability of obtaining the data under the assumption that the null hypothesis is true.\n",
        "P-value is 0.9685 which is greater than 0.05 so we fail to reject the null hypothesis. We can conclude that temperature had no effect on release probability (i.e. it remained 0.3)."
      ],
      "metadata": {
        "id": "0Wiyx6_HnThI"
      }
    },
    {
      "cell_type": "markdown",
      "metadata": {
        "id": "UFYyaeLwTb35"
      },
      "source": [
        "## Bonus Exercise\n",
        "\n",
        "These data are reproduced from Tables 1 and 2 of Johnson and Wernig. Note that *nx* indicates the number of trials (\"release events\") with *x* measured events. Each row is a separate experiment (don't worry about the ordering, which here is reproduced as it is in the paper).\n",
        "\n",
        "Temp (°C)\t| n0\t| n1\t| n2\t| n3\t| n4\t| n5+\n",
        "--- | --| --- | --- | --- | --- | ---\n",
        "4.0\t| 615\t| 206\t| 33\t| 2\t| 0\t| 0\n",
        "3.5\t| 604\t| 339\t| 94\t| 11\t| 2\t| 0\n",
        "0.0 | \t332\t| 126\t| 21\t| 1\t| 0\t| 0\n",
        "2.0\t| 573\t| 443\t| 154\t| 28\t| 2\t| 0\n",
        "6.5\t| 172\t| 176\t| 89\t| 12\t| 1\t| 0\n",
        "3.0\t| 80\t| 224\t| 200\t| 32\t| 4\t| 0\n",
        "\n",
        "You can probably already see that some experiments resulted in primarily zero or one events per trial (e.g., the top experiment), whereas others tended to have more events (e.g., the bottom experiment).\n",
        "\n",
        "Do the quantal event numbers follow a binomial distribution? If so, then that would lend support to the idea that the events are generated by a process that can be characterized in terms of the number of available quanta and the average probability of release of each quantum.\n",
        "\n",
        "Provide a qualitative answer to this question by comparing the empirical distributions (see the data table, above) to the predicted binomial distribution. To get the predicted distribution (i.e., the probabilities associated with each value of *k* from Eq. 1, given the release probability p and the number of available quanta *n*), you need to determine both *k* and *n* from the empirical measurements. To determine *p*, use Eq. 5 in the paper: $p=1-\\frac{\\sigma ^{2}}{m}$\n",
        "\n",
        "where $\\sigma ^{2}$ is the variance and *m* is the mean of the trial-by-trial counts that can be determined from the data. To determine *n*, compute *m*/*p* (because *m* = *n* x *p*).\n",
        "\n",
        "As an added bonus, also include the predicted Poisson distribution, which can be computed using only the mean number of events (*m*, described above).\n",
        "\n"
      ]
    },
    {
      "cell_type": "code",
      "source": [
        "import numpy as np\n",
        "from scipy.stats import binom, poisson\n",
        "\n",
        "# Data for each temperature (counts of measured events)\n",
        "temperatures = [4, 3.5, 0.0, 2, 6.5, 3]\n",
        "data = {\n",
        "    4: [615, 206, 33, 2, 0, 0],\n",
        "    3.5: [604, 339, 94, 11, 2, 0],\n",
        "    0.0: [332, 126, 21, 1, 0, 0],\n",
        "    2: [573, 443, 154, 28, 2, 0],\n",
        "    6.5: [172, 176, 89, 12, 1, 0],\n",
        "    3: [80, 224, 200, 32, 4, 0]\n",
        "}\n",
        "\n",
        "# Calculate predicted distributions for each temperature\n",
        "predicted_distributions = {}\n",
        "\n",
        "for temp, counts in data.items():\n",
        "    m = np.sum([k * count for k, count in enumerate(counts)])\n",
        "    var = np.sum([(k - m) ** 2 * count for k, count in enumerate(counts)]) / m\n",
        "    p = 1 - (var / m)\n",
        "    n = m / p\n",
        "    predicted_binomial = [binom.pmf(k, n, p) for k in range(len(counts))]\n",
        "    predicted_poisson = [poisson.pmf(k, m) for k in range(len(counts))]\n",
        "    predicted_distributions[temp] = (predicted_binomial, predicted_poisson)\n",
        "\n",
        "# Compare the empirical data to the predicted distributions\n",
        "for temp, (predicted_binomial, predicted_poisson) in predicted_distributions.items():\n",
        "    print(f\"Temperature {temp} degrees C:\")\n",
        "    print(f\"Empirical Data: {data[temp]}\")\n",
        "    print(f\"Predicted Binomial: {predicted_binomial}\")\n",
        "    print(f\"Predicted Poisson: {predicted_poisson}\\n\")"
      ],
      "metadata": {
        "id": "xBw311Q-vm1b",
        "outputId": "98e65e56-96e1-4312-a519-9e63fee6623c",
        "colab": {
          "base_uri": "https://localhost:8080/"
        }
      },
      "execution_count": 24,
      "outputs": [
        {
          "output_type": "stream",
          "name": "stdout",
          "text": [
            "Temperature 4 degrees C:\n",
            "Empirical Data: [615, 206, 33, 2, 0, 0]\n",
            "Predicted Binomial: [nan, nan, nan, nan, nan, nan]\n",
            "Predicted Poisson: [1.8455849111782345e-121, 5.130726053075418e-119, 7.13170921377512e-117, 6.608717204764866e-115, 4.5930584573114985e-113, 2.5537405022651857e-111]\n",
            "\n",
            "Temperature 3.5 degrees C:\n",
            "Empirical Data: [604, 339, 94, 11, 2, 0]\n",
            "Predicted Binomial: [nan, nan, nan, nan, nan, nan]\n",
            "Predicted Poisson: [2.0928315748319355e-247, 1.1887283345045366e-244, 3.3759884699930615e-242, 6.391871503186499e-240, 9.076457534524775e-238, 1.0310855759220823e-235]\n",
            "\n",
            "Temperature 0.0 degrees C:\n",
            "Empirical Data: [332, 126, 21, 1, 0, 0]\n",
            "Predicted Binomial: [nan, nan, nan, nan, nan, nan]\n",
            "Predicted Poisson: [5.440559879258653e-75, 9.303357393532334e-73, 7.954370571470161e-71, 4.533991225738021e-69, 1.9382812490030047e-67, 6.628921871590189e-66]\n",
            "\n",
            "Temperature 2 degrees C:\n",
            "Empirical Data: [573, 443, 154, 28, 2, 0]\n",
            "Predicted Binomial: [nan, nan, nan, nan, nan, nan]\n",
            "Predicted Poisson: [0.0, 0.0, 0.0, 0.0, 0.0, 0.0]\n",
            "\n",
            "Temperature 6.5 degrees C:\n",
            "Empirical Data: [172, 176, 89, 12, 1, 0]\n",
            "Predicted Binomial: [nan, nan, nan, nan, nan, nan]\n",
            "Predicted Poisson: [7.726345597362994e-172, 3.044180165361023e-169, 5.997034925761209e-167, 7.876105869166414e-165, 7.757964281128896e-163, 6.113275853529646e-161]\n",
            "\n",
            "Temperature 3 degrees C:\n",
            "Empirical Data: [80, 224, 200, 32, 4, 0]\n",
            "Predicted Binomial: [nan, nan, nan, nan, nan, nan]\n",
            "Predicted Poisson: [2.287e-320, 1.683213e-317, 6.19422465e-315, 1.519649781043e-312, 2.7961555971162e-310, 4.115941038955188e-308]\n",
            "\n"
          ]
        }
      ]
    },
    {
      "cell_type": "markdown",
      "source": [
        "The quantal events seem to follow a Poisson-like distribution more than a binomial distribution. Some ways that these data follow a Poisson distribution are that Poisson distribution is often used to model events that occur randomly over time or space, and it does not have the same constraints as the binomial distribution in terms of a fixed number of trials and Poisson is characterized by a mean which can capture the variability in the data and is considered more flexible since it can accommodate varying event rates (measured events) over different trials."
      ],
      "metadata": {
        "id": "Ql357BOXv6Mn"
      }
    },
    {
      "cell_type": "markdown",
      "metadata": {
        "id": "TxctXRrXQqv4"
      },
      "source": [
        "# Additional Resources\n",
        "\n",
        "Working with the binomial distribution in [Matlab](https://www.mathworks.com/help/stats/binomial-distribution.html), [R](https://www.rdocumentation.org/packages/stats/versions/3.3/topics/Binomial), and [Python](https://docs.scipy.org/doc/scipy/reference/generated/scipy.stats.binom.html)."
      ]
    },
    {
      "cell_type": "markdown",
      "metadata": {
        "id": "tteEm2Qlgbb3"
      },
      "source": [
        "# Credits\n",
        "\n",
        "Copyright 2021 by Joshua I. Gold, University of Pennsylvania"
      ]
    }
  ],
  "metadata": {
    "colab": {
      "collapsed_sections": [
        "pKIiY6p3GRFq",
        "bkVu6eGKIIiQ",
        "u3yXPCmMH2CH",
        "NPyYR5dgJ4Q9",
        "VveIEEiyLUSk",
        "eG7Kvl5pL4jf",
        "-INGaYFtM-Cp",
        "GCN6aNp1N0nC",
        "9BZG29IBSo6E",
        "UFYyaeLwTb35"
      ],
      "name": "Biomial Distribution",
      "provenance": [],
      "toc_visible": true,
      "include_colab_link": true
    },
    "kernelspec": {
      "display_name": "Python 3",
      "name": "python3"
    },
    "language_info": {
      "name": "python"
    }
  },
  "nbformat": 4,
  "nbformat_minor": 0
}